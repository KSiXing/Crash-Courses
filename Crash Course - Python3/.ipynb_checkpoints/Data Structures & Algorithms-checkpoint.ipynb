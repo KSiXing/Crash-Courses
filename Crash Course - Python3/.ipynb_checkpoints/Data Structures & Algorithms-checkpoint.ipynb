{
 "cells": [
  {
   "cell_type": "markdown",
   "metadata": {},
   "source": [
    "# Data Structures & Algorithms\n",
    "\n",
    "This page contains a compilation of Data Structures & Algorithms I have learnt based on my research. They may be drawn from the courses I have taken (CS2030 - Programming Methodology II or CS2040 - Data Structures and Algorithms), but they will be part of the algorithm which I will be documenting and not the actual algorithm itself."
   ]
  },
  {
   "cell_type": "markdown",
   "metadata": {},
   "source": [
    "## Shunting Yard Algorithm (and Post-fix Calculator)\n",
    "\n",
    "- For a more detailed explanation on stacks and queues, please refer to my <a href=\"./Python 3 Crash Course 2.ipynb\">Python 3 Crash Course 2</a>, on the Anagram problem for CS1010E\n",
    "\n",
    "**PEMDAS**\n",
    "- **P**arenthesis\n",
    "- **E**xponent\n",
    "- **M**ultiplication\n",
    "- **D**ivision\n",
    "- **A**ddition\n",
    "- **S**ubtraction"
   ]
  },
  {
   "cell_type": "code",
   "execution_count": 106,
   "metadata": {},
   "outputs": [],
   "source": [
    "import re\n",
    "\n",
    "precedence = {\"+\" : 0, \"-\" : 0, \"*\" : 1, \"/\" : 1, \"^\" : 2}\n",
    "\n",
    "class Shunting_Yard:    \n",
    "    \n",
    "    @staticmethod\n",
    "    def higher_precedence(first, second):\n",
    "        global precedence\n",
    "        return precedence[first] <= precedence[second]\n",
    "\n",
    "    @staticmethod\n",
    "    def calculate(expression):\n",
    "        global numbers\n",
    "        \n",
    "        expression = expression.replace(\"{\",\"(\").replace(\"[\", \"(\").replace(\"}\",\")\").replace(\"]\",\")\")\n",
    "        \n",
    "        east = re.findall(\"[+/*\\-()^]|\\d+\", expression)\n",
    "\n",
    "        west = [] # A queue\n",
    "        south = [] # A stack\n",
    "\n",
    "        for char in east:\n",
    "            if re.match(\"\\d+\",char):\n",
    "                west.append(int(char))\n",
    "            elif char == \")\":\n",
    "                while south and south[-1] != \"(\":\n",
    "                    west.append(south.pop())\n",
    "                south.pop() # Remove the (\n",
    "            elif char == \"(\":\n",
    "                south.append(char)\n",
    "            else:\n",
    "                while south and south[-1] != \"(\" and Shunting_Yard.higher_precedence(char, south[-1]):\n",
    "                    west.append(south.pop())\n",
    "                south.append(char)\n",
    "\n",
    "        while south: \n",
    "            west.append(south.pop())\n",
    "\n",
    "        print(west)\n",
    "        return Shunting_Yard.postfix_calculator(west)\n",
    "    \n",
    "    @staticmethod\n",
    "    def postfix_calculator(expression):\n",
    "        global numbers\n",
    "        \n",
    "        east = expression\n",
    "        \n",
    "        south = []\n",
    "        \n",
    "        while east:\n",
    "            print(south)\n",
    "            if not re.match(\"\\d+\",str(east[0])) :\n",
    "                operator = east.pop(0)\n",
    "                \n",
    "                if len(south) < 2 and operator == \"-\":\n",
    "                    num1 = south.pop()\n",
    "                    south.append(Shunting_Yard.evaluate(operator, 0, num1))\n",
    "                else:\n",
    "                    num2 = south.pop()\n",
    "                    num1 = south.pop()\n",
    "                    south.append(Shunting_Yard.evaluate(operator, num1, num2))\n",
    "            else:\n",
    "                south.append(east.pop(0))\n",
    "                \n",
    "        return south\n",
    "                \n",
    "    @staticmethod\n",
    "    def evaluate(operator, num1, num2):\n",
    "        if operator == \"^\":\n",
    "            return num1 ** num2\n",
    "        elif operator == \"*\":\n",
    "            return num1 * num2\n",
    "        elif operator == \"/\":\n",
    "            return num1 / num2\n",
    "        elif operator == \"+\":\n",
    "            return num1 + num2\n",
    "        else:\n",
    "            return num1 - num2"
   ]
  },
  {
   "cell_type": "code",
   "execution_count": 107,
   "metadata": {},
   "outputs": [
    {
     "ename": "KeyError",
     "evalue": "''",
     "output_type": "error",
     "traceback": [
      "\u001b[1;31m---------------------------------------------------------------------------\u001b[0m",
      "\u001b[1;31mKeyError\u001b[0m                                  Traceback (most recent call last)",
      "\u001b[1;32m<ipython-input-107-1338602b9e33>\u001b[0m in \u001b[0;36m<module>\u001b[1;34m\u001b[0m\n\u001b[1;32m----> 1\u001b[1;33m \u001b[0mShunting_Yard\u001b[0m\u001b[1;33m.\u001b[0m\u001b[0mcalculate\u001b[0m\u001b[1;33m(\u001b[0m\u001b[1;34m\"4 * (1+2*(9/3)-5)\"\u001b[0m\u001b[1;33m)\u001b[0m\u001b[1;33m\u001b[0m\u001b[1;33m\u001b[0m\u001b[0m\n\u001b[0m",
      "\u001b[1;32m<ipython-input-106-07672ba30367>\u001b[0m in \u001b[0;36mcalculate\u001b[1;34m(expression)\u001b[0m\n\u001b[0;32m     31\u001b[0m                 \u001b[0msouth\u001b[0m\u001b[1;33m.\u001b[0m\u001b[0mappend\u001b[0m\u001b[1;33m(\u001b[0m\u001b[0mchar\u001b[0m\u001b[1;33m)\u001b[0m\u001b[1;33m\u001b[0m\u001b[1;33m\u001b[0m\u001b[0m\n\u001b[0;32m     32\u001b[0m             \u001b[1;32melse\u001b[0m\u001b[1;33m:\u001b[0m\u001b[1;33m\u001b[0m\u001b[1;33m\u001b[0m\u001b[0m\n\u001b[1;32m---> 33\u001b[1;33m                 \u001b[1;32mwhile\u001b[0m \u001b[0msouth\u001b[0m \u001b[1;32mand\u001b[0m \u001b[0msouth\u001b[0m\u001b[1;33m[\u001b[0m\u001b[1;33m-\u001b[0m\u001b[1;36m1\u001b[0m\u001b[1;33m]\u001b[0m \u001b[1;33m!=\u001b[0m \u001b[1;34m\"(\"\u001b[0m \u001b[1;32mand\u001b[0m \u001b[0mShunting_Yard\u001b[0m\u001b[1;33m.\u001b[0m\u001b[0mhigher_precedence\u001b[0m\u001b[1;33m(\u001b[0m\u001b[0mchar\u001b[0m\u001b[1;33m,\u001b[0m \u001b[0msouth\u001b[0m\u001b[1;33m[\u001b[0m\u001b[1;33m-\u001b[0m\u001b[1;36m1\u001b[0m\u001b[1;33m]\u001b[0m\u001b[1;33m)\u001b[0m\u001b[1;33m:\u001b[0m\u001b[1;33m\u001b[0m\u001b[1;33m\u001b[0m\u001b[0m\n\u001b[0m\u001b[0;32m     34\u001b[0m                     \u001b[0mwest\u001b[0m\u001b[1;33m.\u001b[0m\u001b[0mappend\u001b[0m\u001b[1;33m(\u001b[0m\u001b[0msouth\u001b[0m\u001b[1;33m.\u001b[0m\u001b[0mpop\u001b[0m\u001b[1;33m(\u001b[0m\u001b[1;33m)\u001b[0m\u001b[1;33m)\u001b[0m\u001b[1;33m\u001b[0m\u001b[1;33m\u001b[0m\u001b[0m\n\u001b[0;32m     35\u001b[0m                 \u001b[0msouth\u001b[0m\u001b[1;33m.\u001b[0m\u001b[0mappend\u001b[0m\u001b[1;33m(\u001b[0m\u001b[0mchar\u001b[0m\u001b[1;33m)\u001b[0m\u001b[1;33m\u001b[0m\u001b[1;33m\u001b[0m\u001b[0m\n",
      "\u001b[1;32m<ipython-input-106-07672ba30367>\u001b[0m in \u001b[0;36mhigher_precedence\u001b[1;34m(first, second)\u001b[0m\n\u001b[0;32m      8\u001b[0m     \u001b[1;32mdef\u001b[0m \u001b[0mhigher_precedence\u001b[0m\u001b[1;33m(\u001b[0m\u001b[0mfirst\u001b[0m\u001b[1;33m,\u001b[0m \u001b[0msecond\u001b[0m\u001b[1;33m)\u001b[0m\u001b[1;33m:\u001b[0m\u001b[1;33m\u001b[0m\u001b[1;33m\u001b[0m\u001b[0m\n\u001b[0;32m      9\u001b[0m         \u001b[1;32mglobal\u001b[0m \u001b[0mprecedence\u001b[0m\u001b[1;33m\u001b[0m\u001b[1;33m\u001b[0m\u001b[0m\n\u001b[1;32m---> 10\u001b[1;33m         \u001b[1;32mreturn\u001b[0m \u001b[0mprecedence\u001b[0m\u001b[1;33m[\u001b[0m\u001b[0mfirst\u001b[0m\u001b[1;33m]\u001b[0m \u001b[1;33m<=\u001b[0m \u001b[0mprecedence\u001b[0m\u001b[1;33m[\u001b[0m\u001b[0msecond\u001b[0m\u001b[1;33m]\u001b[0m\u001b[1;33m\u001b[0m\u001b[1;33m\u001b[0m\u001b[0m\n\u001b[0m\u001b[0;32m     11\u001b[0m \u001b[1;33m\u001b[0m\u001b[0m\n\u001b[0;32m     12\u001b[0m     \u001b[1;33m@\u001b[0m\u001b[0mstaticmethod\u001b[0m\u001b[1;33m\u001b[0m\u001b[1;33m\u001b[0m\u001b[0m\n",
      "\u001b[1;31mKeyError\u001b[0m: ''"
     ]
    }
   ],
   "source": [
    "Shunting_Yard.calculate(\"4 * (1+2*(9/3)-5)\")"
   ]
  },
  {
   "cell_type": "code",
   "execution_count": 102,
   "metadata": {},
   "outputs": [
    {
     "name": "stdout",
     "output_type": "stream",
     "text": [
      "[2, 6, '+', 3, '*']\n",
      "[]\n",
      "[2]\n",
      "[2, 6]\n",
      "[8]\n",
      "[8, 3]\n"
     ]
    },
    {
     "data": {
      "text/plain": [
       "[24]"
      ]
     },
     "execution_count": 102,
     "metadata": {},
     "output_type": "execute_result"
    }
   ],
   "source": [
    "Shunting_Yard.calculate(\"(2 + 6) * 3\")"
   ]
  },
  {
   "cell_type": "code",
   "execution_count": 103,
   "metadata": {},
   "outputs": [
    {
     "name": "stdout",
     "output_type": "stream",
     "text": [
      "[2, 6, 3, '*', '+']\n",
      "[]\n",
      "[2]\n",
      "[2, 6]\n",
      "[2, 6, 3]\n",
      "[2, 18]\n"
     ]
    },
    {
     "data": {
      "text/plain": [
       "[20]"
      ]
     },
     "execution_count": 103,
     "metadata": {},
     "output_type": "execute_result"
    }
   ],
   "source": [
    "Shunting_Yard.calculate(\"2 + 6 * 3\")"
   ]
  },
  {
   "cell_type": "code",
   "execution_count": 104,
   "metadata": {},
   "outputs": [
    {
     "name": "stdout",
     "output_type": "stream",
     "text": [
      "[6, 16, 4, '-', 2, 2, '^', 2, '+', '/', '+', 2, '-']\n",
      "[]\n",
      "[6]\n",
      "[6, 16]\n",
      "[6, 16, 4]\n",
      "[6, 12]\n",
      "[6, 12, 2]\n",
      "[6, 12, 2, 2]\n",
      "[6, 12, 4]\n",
      "[6, 12, 4, 2]\n",
      "[6, 12, 6]\n",
      "[6, 2.0]\n",
      "[8.0]\n",
      "[8.0, 2]\n"
     ]
    },
    {
     "data": {
      "text/plain": [
       "[6.0]"
      ]
     },
     "execution_count": 104,
     "metadata": {},
     "output_type": "execute_result"
    }
   ],
   "source": [
    "Shunting_Yard.calculate(\"6 + [(16 - 4) / (2^2 + 2)] - 2\")"
   ]
  },
  {
   "cell_type": "code",
   "execution_count": 105,
   "metadata": {},
   "outputs": [
    {
     "name": "stdout",
     "output_type": "stream",
     "text": [
      "[10, 20, 2, 2, '^', '/', 5, '*', 5, '/', '/', 8, '*', '-', 2, '-']\n",
      "[]\n",
      "[10]\n",
      "[10, 20]\n",
      "[10, 20, 2]\n",
      "[10, 20, 2, 2]\n",
      "[10, 20, 4]\n",
      "[10, 5.0]\n",
      "[10, 5.0, 5]\n",
      "[10, 25.0]\n",
      "[10, 25.0, 5]\n",
      "[10, 5.0]\n",
      "[2.0]\n",
      "[2.0, 8]\n",
      "[16.0]\n",
      "[-16.0]\n",
      "[-16.0, 2]\n"
     ]
    },
    {
     "data": {
      "text/plain": [
       "[-18.0]"
      ]
     },
     "execution_count": 105,
     "metadata": {},
     "output_type": "execute_result"
    }
   ],
   "source": [
    "Shunting_Yard.calculate(\"- 10 / (20 / 2^2 * 5 / 5) * 8 - 2\")"
   ]
  },
  {
   "cell_type": "code",
   "execution_count": 99,
   "metadata": {},
   "outputs": [
    {
     "name": "stdout",
     "output_type": "stream",
     "text": [
      "[8, 2, '/', 2, 2, '+', '*']\n",
      "[]\n",
      "[8]\n",
      "[8, 2]\n",
      "[4.0]\n",
      "[4.0, 2]\n",
      "[4.0, 2, 2]\n",
      "[4.0, 4]\n"
     ]
    },
    {
     "data": {
      "text/plain": [
       "[16.0]"
      ]
     },
     "execution_count": 99,
     "metadata": {},
     "output_type": "execute_result"
    }
   ],
   "source": [
    "Shunting_Yard.calculate(\"8 / 2 * (2+2)\")"
   ]
  },
  {
   "cell_type": "code",
   "execution_count": null,
   "metadata": {},
   "outputs": [],
   "source": []
  }
 ],
 "metadata": {
  "kernelspec": {
   "display_name": "Python 3",
   "language": "python",
   "name": "python3"
  },
  "language_info": {
   "codemirror_mode": {
    "name": "ipython",
    "version": 3
   },
   "file_extension": ".py",
   "mimetype": "text/x-python",
   "name": "python",
   "nbconvert_exporter": "python",
   "pygments_lexer": "ipython3",
   "version": "3.8.5"
  }
 },
 "nbformat": 4,
 "nbformat_minor": 4
}
