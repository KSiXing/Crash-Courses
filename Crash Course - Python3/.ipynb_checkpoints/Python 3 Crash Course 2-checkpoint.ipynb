{
 "cells": [
  {
   "cell_type": "markdown",
   "metadata": {},
   "source": [
    "# Python 3 Crash Course 2\n",
    "\n",
    "## Outline\n",
    "- Intro to Functional Programming in Python\n",
    "- Key features of Functional Programming\n",
    "    - Lambda\n",
    "    - Map\n",
    "    - Filter\n",
    "    - Reduce\n",
    "- Higher Order Functions\n",
    "- Intro to lazy evaluation\n",
    "    - Generator Comprehension\n",
    "    - Return vs Yield"
   ]
  },
  {
   "cell_type": "markdown",
   "metadata": {},
   "source": [
    "## Acknowledgement\n",
    "\n",
    "This is in appreciation to a few of my close friends who are instrumental in helping me in my programming journey\n",
    "\n",
    "- <a href=\"https://github.com/WeiLiangLOL\">Wei Liang</a> (NUS), literally a wizard when it comes to programming. Thanks for your help back in poly as well as in CS2030, Programming Methodology II\n",
    "- Benjamin (NUS), for our endless discussions on programming as well as sharing your knowledge and experience in CS1010E. This is an important bridge when it comes to the Functional Programming aspects of Python since I am mostly coming from a Java PoV\n",
    "- Sophia (NTU), for encouraging me to write this sequal to my original <a href=\"./Python 3 Crash Course 1.ipynb\">Python 3 Crash Course</a> \n",
    "- Siyi (NUS), for giving me a chance to try out some of the problems that you were assigned in CS1010E. The poor girl forced to learn programming just because she is in the Faculty of Engineering (FoE). I still remember some of the problems like Gibonacci, the Anagram and the one that requires you to use `map`, `filter` and `functools::reduce`, all in one question"
   ]
  },
  {
   "cell_type": "markdown",
   "metadata": {},
   "source": [
    "## Introduction to Functional Programming in Python\n",
    "\n",
    "- Functional Programming (a.k.a. Functional Paradigm or FP for short) is a **declarative** programming style\n",
    "- It focuses on pure functions, immutability and the absence of side effects\n",
    "- Some key functions used includes `lambda`, `map`, `filter`, `functools::reduce`\n",
    "\n",
    "#### Imperative Programming vs Declarative Programming (Recap)\n",
    "\n",
    "- **Declarative** - Say what you want\n",
    "- **Imperative** - Say how to get what you want"
   ]
  },
  {
   "cell_type": "markdown",
   "metadata": {},
   "source": [
    "## Key Features of Functional Programming"
   ]
  },
  {
   "cell_type": "markdown",
   "metadata": {},
   "source": [
    "### Lambda Functions\n",
    "\n",
    "- This has roots based on lambda calculus - $\\lambda$(x)\n",
    "- Instead of defining a function, `lambda` is a useful way to create anonymous functions\n",
    "\n",
    "#### Key Lambda Functions\n",
    "\n",
    "- Identity: $\\lambda$ x : x\n",
    "- Function: $\\lambda$ x : x + 2\n",
    "- BiFunction: $\\lambda$ x, y : x + y\n",
    "- Predicate: $\\lambda$ x : x % 2 == 0 (i.e. returns either a `True` or `False` value only)"
   ]
  },
  {
   "cell_type": "code",
   "execution_count": 1,
   "metadata": {},
   "outputs": [],
   "source": [
    "# This is a regular function\n",
    "\n",
    "def add(first, second):\n",
    "    return first + second"
   ]
  },
  {
   "cell_type": "code",
   "execution_count": 2,
   "metadata": {},
   "outputs": [
    {
     "data": {
      "text/plain": [
       "5"
      ]
     },
     "execution_count": 2,
     "metadata": {},
     "output_type": "execute_result"
    }
   ],
   "source": [
    "add(2,3)"
   ]
  },
  {
   "cell_type": "code",
   "execution_count": 3,
   "metadata": {},
   "outputs": [],
   "source": [
    "# The same can be achieved through this BiFunction (takes in 2 parameters) using lambda\n",
    "\n",
    "add = lambda first, second: first + second"
   ]
  },
  {
   "cell_type": "code",
   "execution_count": 4,
   "metadata": {},
   "outputs": [
    {
     "data": {
      "text/plain": [
       "5"
      ]
     },
     "execution_count": 4,
     "metadata": {},
     "output_type": "execute_result"
    }
   ],
   "source": [
    "add(2,3)"
   ]
  },
  {
   "cell_type": "code",
   "execution_count": 5,
   "metadata": {},
   "outputs": [
    {
     "data": {
      "text/plain": [
       "4"
      ]
     },
     "execution_count": 5,
     "metadata": {},
     "output_type": "execute_result"
    }
   ],
   "source": [
    "# Likewise I can do a square function on input 2\n",
    "\n",
    "(lambda x : x ** 2)(2)"
   ]
  },
  {
   "cell_type": "markdown",
   "metadata": {},
   "source": [
    "### Map Function\n",
    "\n",
    "- Maps a value in the Domain to a value in the Co-Domain. All values in the domain must be mapped, but they can be mapped to the same value in the Co-Domain. Not all values in the Co-Domain must be mapped\n",
    "- In python `map` will take in a function and an iterable, which it will then return the output based on the corresponding values in the iterable\n",
    "- e.g. Square values\n",
    "    - The values 2 and -2 will both be mapped to 4, but -4 will not be mapped"
   ]
  },
  {
   "cell_type": "code",
   "execution_count": 6,
   "metadata": {},
   "outputs": [
    {
     "data": {
      "text/plain": [
       "[9, 4, 1, 0, 1, 4, 9]"
      ]
     },
     "execution_count": 6,
     "metadata": {},
     "output_type": "execute_result"
    }
   ],
   "source": [
    "# An example using square of values\n",
    "\n",
    "lst = [-3, -2, -1, 0, 1, 2, 3]\n",
    "\n",
    "mapped = map(lambda x : x ** 2, lst)\n",
    "[x for x in mapped]"
   ]
  },
  {
   "cell_type": "code",
   "execution_count": 7,
   "metadata": {},
   "outputs": [
    {
     "data": {
      "text/plain": [
       "[3, 2, 1, 0, 1, 2, 3]"
      ]
     },
     "execution_count": 7,
     "metadata": {},
     "output_type": "execute_result"
    }
   ],
   "source": [
    "# An example using absolute values\n",
    "\n",
    "positive_int = map(lambda x : abs(x), lst)\n",
    "[x for x in positive_int]"
   ]
  },
  {
   "cell_type": "markdown",
   "metadata": {},
   "source": [
    "### Filter Function\n",
    "\n",
    "- Filter takes in a predicate and only those values who satisfy the condition will be evaluated\n",
    "- Think of this as the functional version of the `if...else` statement that normally occur"
   ]
  },
  {
   "cell_type": "code",
   "execution_count": 8,
   "metadata": {},
   "outputs": [
    {
     "data": {
      "text/plain": [
       "[2, 4, 6, 8]"
      ]
     },
     "execution_count": 8,
     "metadata": {},
     "output_type": "execute_result"
    }
   ],
   "source": [
    "# Using if...else get only even numbers\n",
    "\n",
    "lst = [1,2,3,4,5,6,7,8]\n",
    "\n",
    "def square_even(lst):\n",
    "    newlist = []\n",
    "    for i in lst:\n",
    "        if i % 2 == 0:\n",
    "            newlist.append(i)\n",
    "        else: \n",
    "            pass\n",
    "    return newlist\n",
    "\n",
    "square_even(lst)"
   ]
  },
  {
   "cell_type": "code",
   "execution_count": 9,
   "metadata": {},
   "outputs": [
    {
     "data": {
      "text/plain": [
       "[2, 4, 6, 8]"
      ]
     },
     "execution_count": 9,
     "metadata": {},
     "output_type": "execute_result"
    }
   ],
   "source": [
    "# Using the filter function\n",
    "\n",
    "even = filter(lambda x : x % 2 == 0, lst)\n",
    "[x for x in even]"
   ]
  },
  {
   "cell_type": "markdown",
   "metadata": {},
   "source": [
    "### Reduce Function\n",
    "\n",
    "- Reduces all values in an iterable down to a single value based on the given function"
   ]
  },
  {
   "cell_type": "code",
   "execution_count": 10,
   "metadata": {},
   "outputs": [
    {
     "data": {
      "text/plain": [
       "720"
      ]
     },
     "execution_count": 10,
     "metadata": {},
     "output_type": "execute_result"
    }
   ],
   "source": [
    "# A traditional for loop\n",
    "\n",
    "def factorial(n):\n",
    "    total = 1\n",
    "    for i in range (1, n + 1):\n",
    "        total *= i\n",
    "    return total\n",
    "\n",
    "factorial(6)"
   ]
  },
  {
   "cell_type": "code",
   "execution_count": 11,
   "metadata": {},
   "outputs": [
    {
     "data": {
      "text/plain": [
       "720"
      ]
     },
     "execution_count": 11,
     "metadata": {},
     "output_type": "execute_result"
    }
   ],
   "source": [
    "from functools import reduce\n",
    "\n",
    "# Factorial\n",
    "\n",
    "factorial = reduce(lambda x, y : x * y, range(1,7))\n",
    "factorial"
   ]
  },
  {
   "cell_type": "code",
   "execution_count": 12,
   "metadata": {},
   "outputs": [
    {
     "data": {
      "text/plain": [
       "'The quick brown fox jumps over the lazy dog'"
      ]
     },
     "execution_count": 12,
     "metadata": {},
     "output_type": "execute_result"
    }
   ],
   "source": [
    "# String Concatenation\n",
    "\n",
    "lst = [\"The\", \"quick\", \"brown\", \"fox\", \"jumps\", \"over\", \"the\", \"lazy\", \"dog\"]\n",
    "\n",
    "strConcat = reduce(lambda x, y : x + \" \" + y, lst)\n",
    "strConcat"
   ]
  },
  {
   "cell_type": "code",
   "execution_count": 13,
   "metadata": {},
   "outputs": [
    {
     "data": {
      "text/plain": [
       "120"
      ]
     },
     "execution_count": 13,
     "metadata": {},
     "output_type": "execute_result"
    }
   ],
   "source": [
    "# A stream of command to sum the square of all even values of a list from 1 to 8 both inclusive\n",
    "# On a side note, java does this really well through the use of Streams\n",
    "\n",
    "lst = [x for x in range(1,9)]\n",
    "\n",
    "# 4 + 16 + 36 + 64 = 120\n",
    "reduce(lambda x, y : x + y, map(lambda x : x * x, filter(lambda x : x % 2 == 0, lst)))"
   ]
  },
  {
   "cell_type": "markdown",
   "metadata": {},
   "source": [
    "## Higher Order Functions\n",
    "\n",
    "- Allows a function to be parsed as a parameter into another function, or a function can be returned"
   ]
  },
  {
   "cell_type": "code",
   "execution_count": 14,
   "metadata": {},
   "outputs": [
    {
     "data": {
      "text/plain": [
       "10"
      ]
     },
     "execution_count": 14,
     "metadata": {},
     "output_type": "execute_result"
    }
   ],
   "source": [
    "# Parsing a function as a parameter\n",
    "from functools import reduce\n",
    "\n",
    "factorial = lambda x,y : x * y\n",
    "\n",
    "def combination(n, r, factorial):\n",
    "    numerator = reduce(factorial, range(1, n+1))\n",
    "    denominator = reduce(factorial, range(1, n - r + 1)) * reduce(factorial, range(1, r + 1))\n",
    "    return int(numerator/denominator)\n",
    "\n",
    "combination(5,2,factorial) # Output is 10"
   ]
  },
  {
   "cell_type": "code",
   "execution_count": 15,
   "metadata": {},
   "outputs": [
    {
     "data": {
      "text/plain": [
       "15"
      ]
     },
     "execution_count": 15,
     "metadata": {},
     "output_type": "execute_result"
    }
   ],
   "source": [
    "# Returning a function\n",
    "def create_sum(x): \n",
    "    def sum(y): \n",
    "        return x + y \n",
    "    \n",
    "    return sum \n",
    "    \n",
    "sum_5 = create_sum(5) \n",
    "sum_5(10) # Output is 15"
   ]
  },
  {
   "cell_type": "markdown",
   "metadata": {},
   "source": [
    "## Introduction to Lazy Evaluation\n",
    "\n",
    "- You should only evaluate what is absolutely necessary\n",
    "- Evaluation is put off to the very last minute\n",
    "- Saves time and computational power especially when dealing with large amount of data"
   ]
  },
  {
   "cell_type": "code",
   "execution_count": null,
   "metadata": {},
   "outputs": [],
   "source": []
  }
 ],
 "metadata": {
  "kernelspec": {
   "display_name": "Python 3",
   "language": "python",
   "name": "python3"
  },
  "language_info": {
   "codemirror_mode": {
    "name": "ipython",
    "version": 3
   },
   "file_extension": ".py",
   "mimetype": "text/x-python",
   "name": "python",
   "nbconvert_exporter": "python",
   "pygments_lexer": "ipython3",
   "version": "3.8.5"
  }
 },
 "nbformat": 4,
 "nbformat_minor": 4
}
