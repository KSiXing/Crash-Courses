{
 "cells": [
  {
   "cell_type": "markdown",
   "metadata": {},
   "source": [
    "# Data Structures & Algorithms\n",
    "\n",
    "This page contains a compilation of Data Structures & Algorithms I have learnt based on my research. Some data structures or algorithms may be drawn from the courses I have taken (CS2030 - Programming Methodology II or CS2040 - Data Structures and Algorithms), but they will only be **a part of the algorithm** which I will be documenting and **not** the actual algorithm itself."
   ]
  },
  {
   "cell_type": "markdown",
   "metadata": {},
   "source": [
    "## Shunting Yard Algorithm (and Post-fix Calculator)\n",
    "\n",
    "- The Shunting Yard algorithm converts an infix mathematical expression into a postfix equivalent, abiding by the **PEMDAS** rule (Order of Operation). It will then use the postfix calculator to evaluate the values.\n",
    "\n",
    "| Infix                             | Postfix                             |\n",
    "| ------                            | -----                               |\n",
    "| (2 + 6) * 3                       | 2 6 + 3 *                           |\n",
    "| - 10 / (20 / 2^2 * 5 / 5) * 8 - 2 | 10 20 2 2 ^ / 5 * 5 / / 8 * - 2.0 - |\n",
    "\n",
    "\n",
    "**PEMDAS**\n",
    "- **P**arenthesis\n",
    "- **E**xponent\n",
    "- **M**ultiplication\n",
    "- **D**ivision\n",
    "- **A**ddition\n",
    "- **S**ubtraction\n",
    "\n",
    "### The algorithm\n",
    "\n",
    "- There will be a the original expression using a queue (east), stack (south) and a processed postfix expression (west)\n",
    "    - For a more detailed explanation on stacks and queues, please refer to my <a href=\"./Python 3 Crash Course 2.ipynb\">Python 3 Crash Course 2</a>, on the Anagram problem for CS1010E\n",
    "    \n",
    "- Evaluate the expression from left to right\n",
    "- Enqueue all numbers immediately\n",
    "- Push open brackets `(` into the stack (south)\n",
    "    - If a close bracket is found, pop from stack until open bracket is found\n",
    "    - Do not enqueue the open bracket\n",
    "- Operators\n",
    "    - Output from stack if it has greater or equal precedence or until we hit an open bracket\n",
    "- Keep enqueuing the top most item from the stack (south) into the queue (west)\n",
    "- Use the postfix calculator algorithm to evaluate the final value\n",
    "\n",
    "\n",
    "### How to use this code\n",
    "\n",
    "- Convert the following operators in your expression\n",
    "\n",
    "| From     | To         |\n",
    "| ---      | ---        |\n",
    "| 3(3 + 2) | 3 * (3 + 2)|\n",
    "| Exponent | ^          |\n",
    "| x        | *          |\n",
    "| ÷        | /          |\n",
    "\n",
    "- Run the code `Shunting_Yard.calculate(\"math expression\")`"
   ]
  },
  {
   "cell_type": "code",
   "execution_count": 1,
   "metadata": {},
   "outputs": [],
   "source": [
    "import re\n",
    "\n",
    "precedence = {\"+\" : 0, \"-\" : 0, \"*\" : 1, \"/\" : 1, \"^\" : 2}\n",
    "\n",
    "class Shunting_Yard:    \n",
    "    \n",
    "    @staticmethod\n",
    "    def higher_precedence(first, second):\n",
    "        global precedence\n",
    "        return precedence[first] <= precedence[second]\n",
    "\n",
    "    @staticmethod\n",
    "    def calculate(expression):\n",
    "        expression = expression.replace(\"{\",\"(\").replace(\"[\", \"(\").replace(\"}\",\")\").replace(\"]\",\")\")\n",
    "        \n",
    "        east = re.findall(\"[+/*\\-()^]|\\d*\\.\\d+|\\d+\", expression) # \\d*\\.\\d+|\\d+ - find all decimals and integers\n",
    "        \n",
    "        # Check for negative signs in the center [\"*\", \"-\", \"3\"] becomes [\"*\", \"-3\"]\n",
    "        for i in range(len(east)):\n",
    "            if east[i] == \"-\":\n",
    "                if i - 1 >= 0 and east[i - 1] in [\"+\", \"-\", \"*\", \"/\", \"^\", \"(\"]:\n",
    "                    east[i] = \"\"\n",
    "                    east[i + 1] = str(0 - float(east[i + 1]))\n",
    "                    \n",
    "        east = [x for x in filter(lambda x : x != \"\", east)]\n",
    "        \n",
    "        west = [] # A queue\n",
    "        south = [] # A stack\n",
    "\n",
    "        for char in east:\n",
    "            if re.match(\"-?\\d+(\\.\\d+)?\",char):\n",
    "                west.append(float(char))\n",
    "            elif char == \")\":\n",
    "                while south and south[-1] != \"(\":\n",
    "                    west.append(south.pop())\n",
    "                south.pop() # Remove the (\n",
    "            elif char == \"(\":\n",
    "                south.append(char)\n",
    "            else:\n",
    "                while south and south[-1] != \"(\" and Shunting_Yard.higher_precedence(char, south[-1]):\n",
    "                    west.append(south.pop())\n",
    "                south.append(char)\n",
    "\n",
    "        while south: \n",
    "            west.append(south.pop())\n",
    "            \n",
    "            \n",
    "        print(west)\n",
    "\n",
    "        return Shunting_Yard.postfix_calculator(west)\n",
    "    \n",
    "    @staticmethod\n",
    "    def postfix_calculator(expression):\n",
    "        global numbers\n",
    "        \n",
    "        east = expression\n",
    "        \n",
    "        south = []\n",
    "        \n",
    "        while east:\n",
    "            if not re.match(\"-?\\d+(\\.\\d+)?\",str(east[0])) :\n",
    "                operator = east.pop(0)\n",
    "                \n",
    "                if len(south) < 2 and operator == \"-\": # Removes the -ve sign at the start\n",
    "                    num1 = south.pop()\n",
    "                    south.append(Shunting_Yard.evaluate(operator, 0, num1))\n",
    "                else:\n",
    "                    num2 = south.pop()\n",
    "                    num1 = south.pop()\n",
    "                    south.append(Shunting_Yard.evaluate(operator, num1, num2))\n",
    "            else:\n",
    "                south.append(east.pop(0))\n",
    "                \n",
    "        return south.pop()\n",
    "                \n",
    "    @staticmethod\n",
    "    def evaluate(operator, num1, num2):\n",
    "        if operator == \"^\":\n",
    "            return num1 ** num2\n",
    "        elif operator == \"*\":\n",
    "            return num1 * num2\n",
    "        elif operator == \"/\":\n",
    "            return num1 / num2\n",
    "        elif operator == \"+\":\n",
    "            return num1 + num2\n",
    "        else:\n",
    "            return num1 - num2"
   ]
  },
  {
   "cell_type": "code",
   "execution_count": 2,
   "metadata": {},
   "outputs": [
    {
     "name": "stdout",
     "output_type": "stream",
     "text": [
      "[4.0, 1.0, 2.0, 9.0, 3.0, '/', '*', '+', 5.0, '-', '*']\n"
     ]
    },
    {
     "data": {
      "text/plain": [
       "8.0"
      ]
     },
     "execution_count": 2,
     "metadata": {},
     "output_type": "execute_result"
    }
   ],
   "source": [
    "Shunting_Yard.calculate(\"4 * (1+2*(9/3)-5)\")"
   ]
  },
  {
   "cell_type": "code",
   "execution_count": 3,
   "metadata": {},
   "outputs": [
    {
     "name": "stdout",
     "output_type": "stream",
     "text": [
      "[10.0, 20.0, 2.0, 2.0, '^', '/', 5.0, '*', 5.0, '/', '/', 8.0, '*', '-', 2.0, '-']\n"
     ]
    },
    {
     "data": {
      "text/plain": [
       "-18.0"
      ]
     },
     "execution_count": 3,
     "metadata": {},
     "output_type": "execute_result"
    }
   ],
   "source": [
    "Shunting_Yard.calculate(\"- 10 / (20 / 2^2 * 5 / 5) * 8 - 2\")"
   ]
  },
  {
   "cell_type": "code",
   "execution_count": 4,
   "metadata": {},
   "outputs": [
    {
     "name": "stdout",
     "output_type": "stream",
     "text": [
      "[100.0, -20.0, -5.0, '*', '/']\n"
     ]
    },
    {
     "data": {
      "text/plain": [
       "1.0"
      ]
     },
     "execution_count": 4,
     "metadata": {},
     "output_type": "execute_result"
    }
   ],
   "source": [
    "Shunting_Yard.calculate(\"100 / (-20 * (-5))\")"
   ]
  },
  {
   "cell_type": "code",
   "execution_count": 5,
   "metadata": {},
   "outputs": [
    {
     "name": "stdout",
     "output_type": "stream",
     "text": [
      "[1000.0, -5.0, -2.0, '*', -10.0, '*', -10.0, '*', '/']\n"
     ]
    },
    {
     "data": {
      "text/plain": [
       "1.0"
      ]
     },
     "execution_count": 5,
     "metadata": {},
     "output_type": "execute_result"
    }
   ],
   "source": [
    "Shunting_Yard.calculate(\"1000 / (-5 * -2 * -10 * -10)\")"
   ]
  },
  {
   "cell_type": "code",
   "execution_count": 6,
   "metadata": {},
   "outputs": [
    {
     "name": "stdout",
     "output_type": "stream",
     "text": [
      "[18.0, 6.0, 4.0, 8.0, 6.0, '-', 3.0, '+', '-', '-', '-']\n"
     ]
    },
    {
     "data": {
      "text/plain": [
       "11.0"
      ]
     },
     "execution_count": 6,
     "metadata": {},
     "output_type": "execute_result"
    }
   ],
   "source": [
    "Shunting_Yard.calculate(\"18 - [6 - {4 - (8 - 6 +3)}]\")"
   ]
  },
  {
   "cell_type": "code",
   "execution_count": 7,
   "metadata": {},
   "outputs": [
    {
     "name": "stdout",
     "output_type": "stream",
     "text": [
      "[4.0, 10.0, 15.0, 5.0, '/', 4.0, '*', '+', 2.0, 2.0, '*', '-', '*']\n"
     ]
    },
    {
     "data": {
      "text/plain": [
       "72.0"
      ]
     },
     "execution_count": 7,
     "metadata": {},
     "output_type": "execute_result"
    }
   ],
   "source": [
    "Shunting_Yard.calculate(\"4 * (10 + 15 / 5 * 4 - 2 * 2)\")"
   ]
  },
  {
   "cell_type": "code",
   "execution_count": 8,
   "metadata": {},
   "outputs": [
    {
     "name": "stdout",
     "output_type": "stream",
     "text": [
      "[2.5, 0.5, -0.5, '*', '/', '-']\n"
     ]
    },
    {
     "data": {
      "text/plain": [
       "10.0"
      ]
     },
     "execution_count": 8,
     "metadata": {},
     "output_type": "execute_result"
    }
   ],
   "source": [
    "Shunting_Yard.calculate(\"-2.5 / (0.5 * -0.5)\")"
   ]
  },
  {
   "cell_type": "markdown",
   "metadata": {},
   "source": [
    "## Flyod's Tortoise and Hare Algorithm\n",
    "\n",
    "### Constraints\n",
    "- Given an array of size N + 1, where there are only N integers. There is always at least a duplicate number\n",
    "- Only 1 duplicate integer\n",
    "- Can be duplicated multiple times\n",
    "- Must not modify the array\n",
    "- Must only use constant O(1) space\n",
    "- Runtime complexity must be < O(N<sup>2</sup>)"
   ]
  },
  {
   "cell_type": "code",
   "execution_count": 3,
   "metadata": {},
   "outputs": [],
   "source": [
    "def findDuplicate(intlist):\n",
    "    tortoise = intlist[0]\n",
    "    hare = intlist[0]\n",
    "    \n",
    "    while True:\n",
    "        tortoise = intlist[tortoise]\n",
    "        hare = intlist[intlist[hare]]\n",
    "        \n",
    "        if tortoise == hare:\n",
    "            break\n",
    "    \n",
    "    tortoise = intlist[0]\n",
    "    \n",
    "    while tortoise != hare:\n",
    "        tortoise = intlist[tortoise]\n",
    "        hare = intlist[hare]\n",
    "        \n",
    "    return hare"
   ]
  },
  {
   "cell_type": "code",
   "execution_count": 7,
   "metadata": {},
   "outputs": [
    {
     "data": {
      "text/plain": [
       "2"
      ]
     },
     "execution_count": 7,
     "metadata": {},
     "output_type": "execute_result"
    }
   ],
   "source": [
    "findDuplicate([1,3,4,2,2])"
   ]
  },
  {
   "cell_type": "code",
   "execution_count": 8,
   "metadata": {},
   "outputs": [
    {
     "data": {
      "text/plain": [
       "3"
      ]
     },
     "execution_count": 8,
     "metadata": {},
     "output_type": "execute_result"
    }
   ],
   "source": [
    "findDuplicate([3,1,3,4,2])"
   ]
  },
  {
   "cell_type": "code",
   "execution_count": null,
   "metadata": {},
   "outputs": [],
   "source": []
  }
 ],
 "metadata": {
  "kernelspec": {
   "display_name": "Python 3",
   "language": "python",
   "name": "python3"
  },
  "language_info": {
   "codemirror_mode": {
    "name": "ipython",
    "version": 3
   },
   "file_extension": ".py",
   "mimetype": "text/x-python",
   "name": "python",
   "nbconvert_exporter": "python",
   "pygments_lexer": "ipython3",
   "version": "3.8.5"
  }
 },
 "nbformat": 4,
 "nbformat_minor": 4
}
