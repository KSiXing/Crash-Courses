{
 "cells": [
  {
   "cell_type": "code",
   "execution_count": 2,
   "metadata": {},
   "outputs": [
    {
     "data": {
      "text/plain": [
       "array([[-2. ,  1. ],\n",
       "       [ 1.5, -0.5]])"
      ]
     },
     "execution_count": 2,
     "metadata": {},
     "output_type": "execute_result"
    }
   ],
   "source": [
    "import numpy as np\n",
    "\n",
    "a = np.array([[1, 2], [3,4]])\n",
    "ainv = np.linalg.inv(a)\n",
    "ainv"
   ]
  },
  {
   "cell_type": "code",
   "execution_count": 8,
   "metadata": {},
   "outputs": [
    {
     "name": "stdout",
     "output_type": "stream",
     "text": [
      "Matrix is singular\n"
     ]
    }
   ],
   "source": [
    "try:    \n",
    "    a = np.array([[0, 0], [0,0]])\n",
    "    ainv = np.linalg.inv(a)\n",
    "except np.linalg.LinAlgError as e:\n",
    "    print(\"Matrix is singular\")"
   ]
  },
  {
   "cell_type": "markdown",
   "metadata": {},
   "source": [
    "### Prime and Prime Factor"
   ]
  },
  {
   "cell_type": "code",
   "execution_count": 13,
   "metadata": {},
   "outputs": [],
   "source": [
    "def is_prime(n):\n",
    "    if n < 2:\n",
    "        return False\n",
    "    i = 2\n",
    "    while i < n:\n",
    "        if n % i == 0:\n",
    "            return False\n",
    "        else:\n",
    "            pass\n",
    "        i += 1\n",
    "    return True\n",
    "  "
   ]
  },
  {
   "cell_type": "code",
   "execution_count": 100,
   "metadata": {},
   "outputs": [],
   "source": [
    "import math\n",
    "from functools import reduce\n",
    "\n",
    "def prime_factors(n): \n",
    "    i = 2\n",
    "    factors = []\n",
    "    while i * i <= n:\n",
    "        if n % i != 0:\n",
    "            i += 1\n",
    "        else:\n",
    "            n //= i\n",
    "            factors.append(i)\n",
    "    \n",
    "    if n > 1:\n",
    "        factors.append(n)\n",
    "    \n",
    "    return reduce(lambda x,y : x + y, set(factors))\n",
    "    "
   ]
  },
  {
   "cell_type": "code",
   "execution_count": 103,
   "metadata": {},
   "outputs": [
    {
     "data": {
      "text/plain": [
       "14"
      ]
     },
     "execution_count": 103,
     "metadata": {},
     "output_type": "execute_result"
    }
   ],
   "source": [
    "prime_factors(140)"
   ]
  },
  {
   "cell_type": "code",
   "execution_count": 36,
   "metadata": {},
   "outputs": [],
   "source": [
    "def is_anagram(s1, s2):\n",
    "    if len(s1) != len(s2):\n",
    "        return False\n",
    "    \n",
    "    for s in s1:\n",
    "        if s.lower() not in s2.lower():\n",
    "            return False\n",
    "        else:\n",
    "            s2 = s2.lower().replace(s.lower(),\"\",1)\n",
    "            \n",
    "    return True"
   ]
  },
  {
   "cell_type": "code",
   "execution_count": 37,
   "metadata": {},
   "outputs": [
    {
     "data": {
      "text/plain": [
       "True"
      ]
     },
     "execution_count": 37,
     "metadata": {},
     "output_type": "execute_result"
    }
   ],
   "source": [
    "is_anagram(\"silent\",\"listen\")"
   ]
  },
  {
   "cell_type": "code",
   "execution_count": 38,
   "metadata": {},
   "outputs": [
    {
     "data": {
      "text/plain": [
       "True"
      ]
     },
     "execution_count": 38,
     "metadata": {},
     "output_type": "execute_result"
    }
   ],
   "source": [
    "is_anagram(\"Desserts\",\"Stressed\")"
   ]
  },
  {
   "cell_type": "code",
   "execution_count": 39,
   "metadata": {},
   "outputs": [
    {
     "data": {
      "text/plain": [
       "False"
      ]
     },
     "execution_count": 39,
     "metadata": {},
     "output_type": "execute_result"
    }
   ],
   "source": [
    "is_anagram(\"aaabbbb\",\"abababa\")"
   ]
  },
  {
   "cell_type": "markdown",
   "metadata": {},
   "source": [
    "### Gibonacci \n",
    "#### Lol so f(x) becomes g(x) therefore Gibonacci\n",
    "\n",
    "So the sequence is defined as such\n",
    "n = (n - 1) + (n - 3) \n",
    "\n",
    "Meaning the current number of adults now is a sum of one lag and 3 lags ago "
   ]
  },
  {
   "cell_type": "code",
   "execution_count": 31,
   "metadata": {},
   "outputs": [],
   "source": [
    "def gibonnacci(n):\n",
    "    sequence = [0,0,1] # Base case 0,0,1 as opposed to 0,1 in fibonacci\n",
    "    for i in range(0, n-2): # n - 2 since I alr have for mth 0 - 2, I should remove 2 mths from n\n",
    "        sequence.append(sequence[i] + sequence[i + 2])\n",
    "        \n",
    "    # return sequence\n",
    "    return sequence[-1]"
   ]
  },
  {
   "cell_type": "code",
   "execution_count": 67,
   "metadata": {},
   "outputs": [],
   "source": [
    "def gibonnacci_2(n):\n",
    "    if n < 2:\n",
    "        return 0\n",
    "    elif n < 5:\n",
    "        return 1\n",
    "    else:\n",
    "        prev1, prev2, prev3 = 1,0,0\n",
    "        lol = [0,0,1]\n",
    "        for i in range(0, n-2): # n - 2 since I alr have for mth 0 - 2, I should remove 2 mths from n\n",
    "            current = prev1 + prev3\n",
    "            prev3 = prev2\n",
    "            prev2 = prev1\n",
    "            prev1 = current\n",
    "            \n",
    "                \n",
    "            lol.append(current)\n",
    "        \n",
    "        print(lol)\n",
    "        return current"
   ]
  },
  {
   "cell_type": "code",
   "execution_count": 49,
   "metadata": {},
   "outputs": [],
   "source": [
    "def f(n):\n",
    "    prev1, prev2 = 1,0\n",
    "    lol = [0,1]\n",
    "    for i in range(0, n): # n - 2 since I alr have for mth 0 - 2, I should remove 2 mths from n\n",
    "        current = prev1 + prev2\n",
    "        prev2 = prev1\n",
    "        prev1 = current\n",
    "\n",
    "\n",
    "        lol.append(current)\n",
    "\n",
    "    return prev2, prev1"
   ]
  },
  {
   "cell_type": "code",
   "execution_count": 40,
   "metadata": {},
   "outputs": [],
   "source": [
    "def f2(n):\n",
    "    sequence = [0,1] # Base case 0,0,1 as opposed to 0,1 in fibonacci\n",
    "    for i in range(0, n): # n - 1 + 1 since I alr have for mth 0 - 1, I should remove 2 mths from n\n",
    "        sequence.append(sequence[i] + sequence[i + 1])\n",
    "        \n",
    "    # return sequence\n",
    "    return sequence[-2], sequence[-1]"
   ]
  },
  {
   "cell_type": "code",
   "execution_count": 50,
   "metadata": {},
   "outputs": [
    {
     "name": "stdout",
     "output_type": "stream",
     "text": [
      "3\n",
      "[0, 1, 1, 2, 3]\n"
     ]
    },
    {
     "data": {
      "text/plain": [
       "(2, 3)"
      ]
     },
     "execution_count": 50,
     "metadata": {},
     "output_type": "execute_result"
    }
   ],
   "source": [
    "f(3)"
   ]
  },
  {
   "cell_type": "code",
   "execution_count": 33,
   "metadata": {},
   "outputs": [
    {
     "data": {
      "text/plain": [
       "[0, 0, 1, 1, 1, 2, 3, 4, 6, 9, 13, 19, 28, 41, 60, 88]"
      ]
     },
     "execution_count": 33,
     "metadata": {},
     "output_type": "execute_result"
    }
   ],
   "source": [
    "gibonnacci(15)"
   ]
  },
  {
   "cell_type": "code",
   "execution_count": 68,
   "metadata": {},
   "outputs": [
    {
     "name": "stdout",
     "output_type": "stream",
     "text": [
      "[0, 0, 1, 1, 1, 2, 3, 4, 6, 9, 13, 19, 28, 41, 60, 88]\n"
     ]
    },
    {
     "data": {
      "text/plain": [
       "88"
      ]
     },
     "execution_count": 68,
     "metadata": {},
     "output_type": "execute_result"
    }
   ],
   "source": [
    "gibonnacci_2(15)"
   ]
  },
  {
   "cell_type": "code",
   "execution_count": 24,
   "metadata": {},
   "outputs": [
    {
     "data": {
      "text/plain": [
       "1"
      ]
     },
     "execution_count": 24,
     "metadata": {},
     "output_type": "execute_result"
    }
   ],
   "source": [
    "gibonnacci(4)"
   ]
  },
  {
   "cell_type": "code",
   "execution_count": 25,
   "metadata": {},
   "outputs": [
    {
     "data": {
      "text/plain": [
       "13"
      ]
     },
     "execution_count": 25,
     "metadata": {},
     "output_type": "execute_result"
    }
   ],
   "source": [
    "gibonnacci(10)"
   ]
  },
  {
   "cell_type": "code",
   "execution_count": 18,
   "metadata": {},
   "outputs": [],
   "source": [
    "def is_Prime(n): \n",
    "      \n",
    "    prime = [1 for i in range(2,n + 1)] \n",
    "    p = 2\n",
    "    while (p * p <= n): \n",
    "          \n",
    "        if (prime[p - 2] == 1):  \n",
    "            for i in range(p * 2, n + 1, p): \n",
    "                prime[i - 2] = 0\n",
    "        p += 1\n",
    "     \n",
    "    return sum(prime)"
   ]
  },
  {
   "cell_type": "code",
   "execution_count": 27,
   "metadata": {},
   "outputs": [
    {
     "data": {
      "text/plain": [
       "6"
      ]
     },
     "execution_count": 27,
     "metadata": {},
     "output_type": "execute_result"
    }
   ],
   "source": [
    "is_Prime(15)"
   ]
  },
  {
   "cell_type": "code",
   "execution_count": 25,
   "metadata": {},
   "outputs": [],
   "source": [
    "def least_common(n):\n",
    "    intlist = [int(d) for d in str(n)]\n",
    "    present = list(set(intlist))\n",
    "    present.sort()\n",
    "    least = None\n",
    "    smallest = -1\n",
    "    for i in range(1,present[-1] + 1):\n",
    "        count = intlist.count(i)\n",
    "        if(least == None or least > count):\n",
    "            least = count\n",
    "            smallest = i\n",
    "    return smallest"
   ]
  },
  {
   "cell_type": "code",
   "execution_count": 26,
   "metadata": {},
   "outputs": [
    {
     "data": {
      "text/plain": [
       "1"
      ]
     },
     "execution_count": 26,
     "metadata": {},
     "output_type": "execute_result"
    }
   ],
   "source": [
    "least_common(123)"
   ]
  },
  {
   "cell_type": "code",
   "execution_count": 27,
   "metadata": {},
   "outputs": [
    {
     "data": {
      "text/plain": [
       "2"
      ]
     },
     "execution_count": 27,
     "metadata": {},
     "output_type": "execute_result"
    }
   ],
   "source": [
    "least_common(1123)"
   ]
  },
  {
   "cell_type": "code",
   "execution_count": 28,
   "metadata": {},
   "outputs": [
    {
     "data": {
      "text/plain": [
       "3"
      ]
     },
     "execution_count": 28,
     "metadata": {},
     "output_type": "execute_result"
    }
   ],
   "source": [
    "least_common(12321)"
   ]
  },
  {
   "cell_type": "code",
   "execution_count": 1,
   "metadata": {},
   "outputs": [
    {
     "data": {
      "text/plain": [
       "3"
      ]
     },
     "execution_count": 1,
     "metadata": {},
     "output_type": "execute_result"
    }
   ],
   "source": [
    "lambda x, y : x + y\n",
    "max2 = lambda x,y: x if x > y else y\n",
    "\n",
    "max2(5,3)"
   ]
  },
  {
   "cell_type": "markdown",
   "metadata": {},
   "source": [
    "### Triplets"
   ]
  },
  {
   "cell_type": "code",
   "execution_count": 35,
   "metadata": {},
   "outputs": [],
   "source": [
    "def triplets(sequence, R):\n",
    "    for i in range(len(sequence)):\n",
    "        R1 = sequence[i]\n",
    "        for j in range(i + 1,len(sequence)):\n",
    "            for k in range(j + 1, len(sequence)):\n",
    "                if(R1 + sequence[j] + sequence[k] == R):\n",
    "                    return R1, sequence[j], sequence[k]\n",
    "                \n",
    "    return None"
   ]
  },
  {
   "cell_type": "code",
   "execution_count": 110,
   "metadata": {},
   "outputs": [],
   "source": [
    "# This is still O(n^3) time complexity, see if there's a way to reduce the time complexity\n",
    "\n",
    "def triplets(sequence, R):\n",
    "    for i in range(len(sequence) - 2):\n",
    "        R1 = sequence[i]\n",
    "        R2, R3 = find_pair(sequence[i + 1:], R - R1)\n",
    "        if(R2 != -1):\n",
    "            return R1, R2, R3\n",
    "                \n",
    "    return None\n",
    "\n",
    "def find_pair(sequence, R):\n",
    "    for i in range(len(sequence)):\n",
    "        sequence2 = sequence[i + 1:]\n",
    "        for j in range(len(sequence2)):\n",
    "            if(sequence[i] + sequence2[j] == R):\n",
    "                return sequence[i], sequence2[j]\n",
    "            \n",
    "    return -1, -1"
   ]
  },
  {
   "cell_type": "code",
   "execution_count": 102,
   "metadata": {},
   "outputs": [
    {
     "name": "stdout",
     "output_type": "stream",
     "text": [
      "(2, 3)\n",
      "(3, 4)\n",
      "(4, 5)\n",
      "(5, 6)\n",
      "(6, 7)\n",
      "(7, 8)\n",
      "(8, 9)\n",
      "(9, 10)\n"
     ]
    }
   ],
   "source": [
    "for i in zip([2,3,4,5,6,7,8,9,10], [3,4,5,6,7,8,9,10]):\n",
    "    print(i)"
   ]
  },
  {
   "cell_type": "code",
   "execution_count": 111,
   "metadata": {},
   "outputs": [
    {
     "name": "stdout",
     "output_type": "stream",
     "text": [
      "(1, 2, 7)\n"
     ]
    }
   ],
   "source": [
    "print(triplets([1,2,3,4,5,6,7,8,9,10], 10))"
   ]
  },
  {
   "cell_type": "code",
   "execution_count": 112,
   "metadata": {},
   "outputs": [
    {
     "name": "stdout",
     "output_type": "stream",
     "text": [
      "(6, 9, 10)\n"
     ]
    }
   ],
   "source": [
    "print(triplets([1,2,3,4,5,6,7,8,9,10], 25))"
   ]
  },
  {
   "cell_type": "code",
   "execution_count": 109,
   "metadata": {},
   "outputs": [
    {
     "name": "stdout",
     "output_type": "stream",
     "text": [
      "None\n"
     ]
    }
   ],
   "source": [
    "print(triplets([1,2,3,4,5,6,7,8,9,10], 100))"
   ]
  },
  {
   "cell_type": "code",
   "execution_count": 9,
   "metadata": {},
   "outputs": [
    {
     "name": "stdout",
     "output_type": "stream",
     "text": [
      "5\n",
      "ball\n",
      "red\n",
      "the\n",
      "big\n",
      "is\n",
      "['ball', 'red', 'the', 'big', 'is']\n",
      "3 4\n",
      "[[], [], [3], [], []]\n",
      "1 5\n",
      "[[4], [], [3], [], []]\n",
      "1 2\n",
      "[[4, 1], [], [3], [], []]\n",
      "3 1\n",
      "[[4, 1], [], [3, 0], [], []]\n",
      "the2\n",
      "big3\n",
      "ball0\n",
      "is4\n",
      "red1\n"
     ]
    }
   ],
   "source": [
    "import sys\n",
    "sys.setrecursionlimit(10**6)\n",
    "\n",
    "def print_recursive(v, strings, idx):\n",
    "    print(strings[idx], end=\"\")\n",
    "    print(idx)\n",
    "    for i in v[idx]:\n",
    "        print_recursive(v, strings, i)\n",
    "        \n",
    "n = int(input())\n",
    "strings = [\"\" for i in range(n)]\n",
    "v = [[] for t in range(n)]\n",
    "\n",
    "for i in range(n):\n",
    "    strings[i] = input()\n",
    "    \n",
    "idx1 = 0\n",
    "idx2 = 0;\n",
    "last_idx = 0;\n",
    "\n",
    "print(strings)\n",
    "\n",
    "for i in range(n-1):\n",
    "    idx1, idx2 = [int(i) for i in input().strip().split(\" \")]\n",
    "    \n",
    "    idx1 -= 1\n",
    "    idx2 -= 1\n",
    "    v[idx1].append(idx2)\n",
    "    print(v)\n",
    "    last_idx = idx1\n",
    "    \n",
    "print_recursive(v, strings, last_idx)"
   ]
  },
  {
   "cell_type": "markdown",
   "metadata": {},
   "source": [
    "### Sum Square"
   ]
  },
  {
   "cell_type": "code",
   "execution_count": 6,
   "metadata": {},
   "outputs": [],
   "source": [
    "def cond_sum(op, init, pred, limit):\n",
    "    res = init\n",
    "    for i in range(limit):\n",
    "        if pred(i) == True:\n",
    "            res = op(res, i)\n",
    "    return res\n",
    "\n",
    "def sum_square(n): \n",
    "    op = lambda res, i : res + (i * i)\n",
    "    pred = lambda i : type(i) == int\n",
    "    return cond_sum(op, 0, pred, n + 1)"
   ]
  },
  {
   "cell_type": "code",
   "execution_count": 9,
   "metadata": {},
   "outputs": [
    {
     "data": {
      "text/plain": [
       "14"
      ]
     },
     "execution_count": 9,
     "metadata": {},
     "output_type": "execute_result"
    }
   ],
   "source": [
    "sum_square(3)"
   ]
  },
  {
   "cell_type": "code",
   "execution_count": 18,
   "metadata": {},
   "outputs": [
    {
     "name": "stdout",
     "output_type": "stream",
     "text": [
      "WWWWWWWWWWWWWWWWWWWWWWW.TTT..^^^^...WWWWWWWW\n",
      "WWWWWWWWWWWWWWWWWWWWWW...T..^^^^....WWWWWWWW\n",
      "WWWWWWWWWWWWWWWWWWWWWW......^^^......WWWWWWW\n",
      "WWWWWWWWWWWWWWWWWWWWW..T.....^^^^..T.WWWWWWW\n",
      "WWWWWWWWWWWWWWWWWWWWW........^^^^..T.WWWWWWW\n",
      "WWWWWWWWWWWWWWWWWWWW........^^^....T.WWWWWWW\n",
      "WWWWWWWWWWWWWWWWWWWW........^^^......WWWWWWW\n",
      "WWWWWWWWWWWWWWWWWWWWWW.....^^^^.....WWWWWWWW\n",
      "WWWWWWWWWWWWWWWWWWWWWW.....^^^......WWWWWWWW\n",
      "WWWWWWWWWWWWWWWWWWWWWWW....^^......WWWWWWWWW\n",
      "WWWWWWWWWWWWWWWWWWWWWW......^.....WWWWWWWWWW\n",
      "WWWWWWWWWWWWWWWWWWWWW............WWWWWWWWWWW\n",
      "WWWWWWWWWWWWWWWWWWWW....T......WWWWWWWWWWWWW\n",
      "WWWWW...WWWWWWWWWWWWW..T.T.....WWWWWWWWWWWWW\n",
      "WWWW..TTT.WWWWWWWWWWW...T.....WWWWWWWWWWWWWW\n",
      "WWWWW.......WWWWWWWWWWW......WWWWWWWWWWWWWWW\n",
      "WWWWWWWW...T.WWWWWWWWWWWWWWWWWWWWWWWWWWWWWWW\n",
      "WWWWWWWWW....WWWWWWWWWWWWWWWWWWWWWWWWWWWWWWW\n",
      "WWWWWWWWWW.T.WWWWWWWWWWWWWWWWWWWWWWWWWWWWWWW\n",
      "WWWWWWWWWWW.WWWWWWWWWW.....WWWWWWWWWWWWWWWWW\n",
      "WWWWWWWWWWWWWWWWWWWWW....T..WWWWWWWWWWWWWWWW\n",
      "WWWWWWWWWWWWWWWWWWWWWWW.TTT..WWWWWWWWWWWWWWW\n",
      "WWWWWWWWWWWWWWWWWWWWWWW..T..WWWWWWWWWWWWWWWW\n",
      "WWWWWWWWWWWWWWWWWWWWWW...WWWWWWWWWWWWWWWWWWW\n",
      "WWWWWWWWWWWWWWWWWWWWWWWWWWWWWWWWWWWWWWWWWWWW\n",
      "WWWWWWWWWWWWWWWWWWWWWWWWWWWWWWWWWWWWWWWWWWWW\n",
      "WWWWWWWWWWWWWWWWWWWWWWWWWWWWWWWWWWWWWWWWWWWW\n",
      "W:WATER\n",
      "T:TREE\n",
      ".:GRASS\n",
      "^:MOUNTAIN\n"
     ]
    }
   ],
   "source": [
    "### Assignment 05\n",
    "\n",
    "\"\"\"\n",
    "Part 1: Treasure Map\n",
    "\"\"\"\n",
    "def print_map(maps):\n",
    "    if type(maps) == list:\n",
    "        for row in maps:\n",
    "            print(row)\n",
    "\"\"\"\n",
    "1.1 Secret Message\n",
    "  Write a function to decrypt\n",
    "  the cipher and recover the message\n",
    "\"\"\"\n",
    "def decrypt(cipher, guide):\n",
    "    string = ''\n",
    "    for i in cipher:\n",
    "        if i in guide:\n",
    "            string += guide[i]\n",
    "        else:\n",
    "            string += i\n",
    "    return string\n",
    "\n",
    "### Test data (do not modify)\n",
    "guide = {'a': 'm', 'b': 'a', 'c': 'c', 'd': 'y', 'e': 't', 'f': 'v', 'g': 'o', 'h': 'u', 'i': 'x', 'j': 'e', 'k': 'j', 'l': 'w', 'm': 'f', 'n': 'z', 'o': 'd', 'p': 'l', 'q': 'i', 'r': 'k', 's': 'h', 't': 'n', 'u': 'g', 'v': 'b', 'w': 'q', 'x': 's', 'y': 'p', 'z': 'r'}\n",
    "dict1 = {'a': 'c', 'b': 'a', 'c': 'm', 'd': 'y', 'e': 'v', 'f': 't', 'g': 'o', 'h': 'u', 'i': 'z', 'j': 'e', 'k': 'l', 'l': 'd', 'm': 'f', 'n': 'x', 'o': 'w', 'p': 'j', 'q': 'i', 'r': 'r', 's': 'n', 't': 'b', 'u': 'g', 'v': 'p', 'w': 'q', 'x': 's', 'y': 'h', 'z': 'k'}\n",
    "### Test cases (comment out or remove before copying to Coursemology)\n",
    "##print(decrypt('esbtr dgh abzqg! vhe ghz yzqtcjxx qx qt btgesjz cbxepj!', guide))\n",
    "##print(decrypt('qx qe mht?', guide))\n",
    "##print(decrypt('esj ezjbxhzj qx sqoojt qt mqfj ezjjx bzzbtujo qt b czgxx', guide))\n",
    "\n",
    "\n",
    "\n",
    "\n",
    "\"\"\"\n",
    "1.2 Decoding a Map\n",
    "  Write a function to read an encrypted map\n",
    "  and decode the map\n",
    "\"\"\"\n",
    "def decode_map(mapfile, map_guide):\n",
    "    with open(mapfile) as mf:\n",
    "        list = []\n",
    "        lines = mf.readlines()\n",
    "        for line in lines:\n",
    "            string = \"\"\n",
    "            for i in line.strip():\n",
    "                if i in map_guide:\n",
    "                    string += map_guide[i].strip()\n",
    "                else:\n",
    "                    string += i\n",
    "            list.append(string)\n",
    "        return list\n",
    "      \n",
    "\n",
    "### Test data (do not modify)\n",
    "map_guide = {'D': 'W', '1': 'W', 'Z': 'W', 'C': 'T', '3': 'T', 'F': 'T', '0': '.', '2': '.', '4': '.', 'B': '^', '+': '^', ';': '^', 'Q': 'E', '7': 'E', '8': 'E', 'X': 'M', 'P': 'M', '!': 'M', '(': ':', ')': ':', '9': ':', '*': ' ', '|': ' ', '#': ' '}\n",
    "### Test cases (comment out or remove before copying to Coursemology)\n",
    "print_map(decode_map('encoded_map1.txt', map_guide))\n",
    "##print_map(decode_map('encoded_map2.txt', map_guide))\n",
    "##print_map(decode_map('encoded_map3.txt', map_guide))\n",
    "##print_map(decode_map('encoded_map4.txt', map_guide))\n",
    "\n",
    "\n",
    "\n",
    "\n",
    "\"\"\"\n",
    "1.3 Find Treasure\n",
    "  Write a function to find the treasure\n",
    "\"\"\"\n",
    "def find_treasure(decodedmap):\n",
    "    pass\n",
    "\n",
    "### Test data (do not modify)\n",
    "#decodedmap1 = ['WWWWWWWWWWWWWWWWWWWWWWW.TTT..^^^^...WWWWWWWW', 'WWWWWWWWWWWWWWWWWWWWWW...T..^^^^....WWWWWWWW', 'WWWWWWWWWWWWWWWWWWWWWW......^^^......WWWWWWW', 'WWWWWWWWWWWWWWWWWWWWW..T.....^^^^..T.WWWWWWW', 'WWWWWWWWWWWWWWWWWWWWW........^^^^..T.WWWWWWW', 'WWWWWWWWWWWWWWWWWWWW........^^^....T.WWWWWWW', 'WWWWWWWWWWWWWWWWWWWW........^^^......WWWWWWW', 'WWWWWWWWWWWWWWWWWWWWWW.....^^^^.....WWWWWWWW', 'WWWWWWWWWWWWWWWWWWWWWW.....^^^......WWWWWWWW', 'WWWWWWWWWWWWWWWWWWWWWWW....^^......WWWWWWWWW', 'WWWWWWWWWWWWWWWWWWWWWW......^.....WWWWWWWWWW', 'WWWWWWWWWWWWWWWWWWWWW............WWWWWWWWWWW', 'WWWWWWWWWWWWWWWWWWWW....T......WWWWWWWWWWWWW', 'WWWWW...WWWWWWWWWWWWW..T.T.....WWWWWWWWWWWWW', 'WWWW..TTT.WWWWWWWWWWW...T.....WWWWWWWWWWWWWW', 'WWWWW.......WWWWWWWWWWW......WWWWWWWWWWWWWWW', 'WWWWWWWW...T.WWWWWWWWWWWWWWWWWWWWWWWWWWWWWWW', 'WWWWWWWWW....WWWWWWWWWWWWWWWWWWWWWWWWWWWWWWW', 'WWWWWWWWWW.T.WWWWWWWWWWWWWWWWWWWWWWWWWWWWWWW', 'WWWWWWWWWWW.WWWWWWWWWW.....WWWWWWWWWWWWWWWWW', 'WWWWWWWWWWWWWWWWWWWWW....T..WWWWWWWWWWWWWWWW', 'WWWWWWWWWWWWWWWWWWWWWWW.TTT..WWWWWWWWWWWWWWW', 'WWWWWWWWWWWWWWWWWWWWWWW..T..WWWWWWWWWWWWWWWW', 'WWWWWWWWWWWWWWWWWWWWWW...WWWWWWWWWWWWWWWWWWW', 'WWWWWWWWWWWWWWWWWWWWWWWWWWWWWWWWWWWWWWWWWWWW', 'WWWWWWWWWWWWWWWWWWWWWWWWWWWWWWWWWWWWWWWWWWWW', 'WWWWWWWWWWWWWWWWWWWWWWWWWWWWWWWWWWWWWWWWWWWW', 'W: WATER                                    ', 'T: TREE                                     ', '.: GRASS                                    ', '^: MOUNTAIN                                 ']\n",
    "### Test cases (comment out or remove before copying to Coursemology)\n",
    "##print(find_treasure(decodedmap1))\n",
    "##print(find_treasure(decode_map('encoded_map2.txt', map_guide)))\n",
    "##print(find_treasure(decode_map('encoded_map3.txt', map_guide)))\n",
    "##print(find_treasure(decode_map('encoded_map4.txt', map_guide)))\n"
   ]
  },
  {
   "cell_type": "code",
   "execution_count": 19,
   "metadata": {
    "scrolled": true
   },
   "outputs": [
    {
     "data": {
      "text/plain": [
       "['WWWWWWWWWWWWWWWWWWWWWWW.TTT..^^^^...WWWWWWWW',\n",
       " 'WWWWWWWWWWWWWWWWWWWWWW...T..^^^^....WWWWWWWW',\n",
       " 'WWWWWWWWWWWWWWWWWWWWWW......^^^......WWWWWWW',\n",
       " 'WWWWWWWWWWWWWWWWWWWWW..T.....^^^^..T.WWWWWWW',\n",
       " 'WWWWWWWWWWWWWWWWWWWWW........^^^^..T.WWWWWWW',\n",
       " 'WWWWWWWWWWWWWWWWWWWW........^^^....T.WWWWWWW',\n",
       " 'WWWWWWWWWWWWWWWWWWWW........^^^......WWWWWWW',\n",
       " 'WWWWWWWWWWWWWWWWWWWWWW.....^^^^.....WWWWWWWW',\n",
       " 'WWWWWWWWWWWWWWWWWWWWWW.....^^^......WWWWWWWW',\n",
       " 'WWWWWWWWWWWWWWWWWWWWWWW....^^......WWWWWWWWW',\n",
       " 'WWWWWWWWWWWWWWWWWWWWWW......^.....WWWWWWWWWW',\n",
       " 'WWWWWWWWWWWWWWWWWWWWW............WWWWWWWWWWW',\n",
       " 'WWWWWWWWWWWWWWWWWWWW....T......WWWWWWWWWWWWW',\n",
       " 'WWWWW...WWWWWWWWWWWWW..T.T.....WWWWWWWWWWWWW',\n",
       " 'WWWW..TTT.WWWWWWWWWWW...T.....WWWWWWWWWWWWWW',\n",
       " 'WWWWW.......WWWWWWWWWWW......WWWWWWWWWWWWWWW',\n",
       " 'WWWWWWWW...T.WWWWWWWWWWWWWWWWWWWWWWWWWWWWWWW',\n",
       " 'WWWWWWWWW....WWWWWWWWWWWWWWWWWWWWWWWWWWWWWWW',\n",
       " 'WWWWWWWWWW.T.WWWWWWWWWWWWWWWWWWWWWWWWWWWWWWW',\n",
       " 'WWWWWWWWWWW.WWWWWWWWWW.....WWWWWWWWWWWWWWWWW',\n",
       " 'WWWWWWWWWWWWWWWWWWWWW....T..WWWWWWWWWWWWWWWW',\n",
       " 'WWWWWWWWWWWWWWWWWWWWWWW.TTT..WWWWWWWWWWWWWWW',\n",
       " 'WWWWWWWWWWWWWWWWWWWWWWW..T..WWWWWWWWWWWWWWWW',\n",
       " 'WWWWWWWWWWWWWWWWWWWWWW...WWWWWWWWWWWWWWWWWWW',\n",
       " 'WWWWWWWWWWWWWWWWWWWWWWWWWWWWWWWWWWWWWWWWWWWW',\n",
       " 'WWWWWWWWWWWWWWWWWWWWWWWWWWWWWWWWWWWWWWWWWWWW',\n",
       " 'WWWWWWWWWWWWWWWWWWWWWWWWWWWWWWWWWWWWWWWWWWWW',\n",
       " 'W:WATER',\n",
       " 'T:TREE',\n",
       " '.:GRASS',\n",
       " '^:MOUNTAIN']"
      ]
     },
     "execution_count": 19,
     "metadata": {},
     "output_type": "execute_result"
    }
   ],
   "source": [
    "decode_map('encoded_map1.txt', map_guide)"
   ]
  },
  {
   "cell_type": "code",
   "execution_count": 1,
   "metadata": {},
   "outputs": [],
   "source": [
    "### Assignment 06\n",
    "\n",
    "\"\"\"\n",
    "Matrix Utility Functions\n",
    "\"\"\"\n",
    "def create_zero_matrix(r,c):\n",
    "    return [[0]*c for _ in range(r)]\n",
    "\n",
    "def m_tight_print(matrix):\n",
    "    for i in range(len(matrix)):\n",
    "        print(''.join(map(str, matrix[i])))"
   ]
  },
  {
   "cell_type": "code",
   "execution_count": 3,
   "metadata": {},
   "outputs": [
    {
     "name": "stdout",
     "output_type": "stream",
     "text": [
      "[[0, 0, 0, 0, 0, 0, 0, 0], [0, 0, 'X', 0, 0, 0, 0, 0], [0, 0, 0, 0, 0, 0, 0, 0], [0, 0, 0, 0, 0, 0, 0, 0], [0, 0, 0, 0, 0, 0, 0, 'X'], [0, 0, 0, 0, 0, 0, 0, 0], [0, 0, 0, 0, 0, 0, 0, 0]]\n"
     ]
    }
   ],
   "source": [
    "### Assignment 06\n",
    "\n",
    "\"\"\"\n",
    "Question 2: Lightning Pizza\n",
    "\"\"\"\n",
    "from pprint import pprint\n",
    "\n",
    "\"\"\"\n",
    "2.1 Pizza Delivery\n",
    "  Write a function to compute the\n",
    "  nearest pizza store from ALL location\n",
    "  in Regulaville\n",
    "\"\"\"\n",
    "##def pd_map(h, w, stores):\n",
    "##  map = create_zero_matrix(h,w)\n",
    "##  for s in range(len(stores)-1):\n",
    "##    store0 = stores[s]\n",
    "##    store1 = stores[s+1]\n",
    "##    i0, j0 = store0[0], store0[1]\n",
    "##    i1, j1 = store1[0], store1[1]\n",
    "##    for row in range(len(map)):\n",
    "##      for col in range(len(map[0])):\n",
    "##        dist0 = ((abs(i0-row))**2 + (abs(j0-col))**2)**0.5\n",
    "##        dist1 = ((abs(i1-row))**2 + (abs(j1-col))**2)**0.5\n",
    "##        if dist0 < dist1:\n",
    "##          map[row][col] = s\n",
    "##        elif dist0 > dist1:\n",
    "##          map[row][col] = s+1\n",
    "##        elif dist0 == dist1:\n",
    "##          map[row][col] = 'X'\n",
    "##  return map\n",
    "\n",
    "##def pd_map(h, w, stores):\n",
    "##  map = create_zero_matrix(h,w)\n",
    "##  prevdist = 999\n",
    "##  for s in range(len(stores)):\n",
    "##    store = stores[s]\n",
    "##    i, j = store[0], store[1]\n",
    "##    for row in range(len(map)):\n",
    "##      for col in range(len(map[0])):\n",
    "##        dist = ((abs(i-row))**2 + (abs(j-col))**2)**0.5\n",
    "##        if dist < prevdist:\n",
    "##          map[row][col] = s\n",
    "##        elif dist == prevdist:\n",
    "##          map[row][col] = 'X'\n",
    "##          prevdist = dist\n",
    "##    prevdist = dist\n",
    "##  return map\n",
    "\n",
    "def pd_map(h, w, stores):\n",
    "    map = create_zero_matrix(h,w)\n",
    "    prevdist = 999\n",
    "    for row in range(len(map)):\n",
    "        for col in range(len(map[0])):\n",
    "            for s in range(len(stores)):\n",
    "                store = stores[s]\n",
    "                i, j = store[0], store[1]\n",
    "                dist = ((abs(i-row))**2 + (abs(j-col))**2)**0.5\n",
    "                if dist < prevdist:\n",
    "                    map[row][col] = s\n",
    "                    prevdist = dist\n",
    "                elif dist == prevdist:\n",
    "                    map[row][col] = 'X'\n",
    "    return map\n",
    "\n",
    "### Test data (do not modify)\n",
    "stores1 = [[1,3], [4,7], [7,2]]\n",
    "stores2 = [[2,3], [4,9], [7,2]]\n",
    "stores3 = [[20,10], [30,30],[40,20],[45,55],[10,55],[35,70],[35,60]]\n",
    "### Test cases (comment out or remove before copying to Coursemology)\n",
    "print(pd_map(7, 8, stores1))\n",
    "##print(pd_map(10, 10, stores2))\n",
    "##print(pd_map(50, 80, stores3))\n",
    "##m_tight_print(pd_map(7, 8, stores1))\n",
    "##m_tight_print(pd_map(10, 10, stores2))\n",
    "##m_tight_print(pd_map(50, 80, stores3))\n"
   ]
  },
  {
   "cell_type": "code",
   "execution_count": 21,
   "metadata": {},
   "outputs": [],
   "source": [
    "def pd_map(h, w, stores):\n",
    "    mapp = create_zero_matrix(h,w)\n",
    "    for row in range(len(mapp)):\n",
    "        for col in range(len(mapp[row])):\n",
    "            prevdist = 999\n",
    "            for s in range(len(stores)):\n",
    "                store = stores[s]\n",
    "                i, j = store[0], store[1]\n",
    "                dist = ((abs(i-row))**2 + (abs(j-col))**2)**0.5\n",
    "                if dist < prevdist:\n",
    "                    mapp[row][col] = s\n",
    "                    prevdist = dist\n",
    "                elif dist == prevdist:\n",
    "                    mapp[row][col] = 'X'\n",
    "                else:\n",
    "                    pass\n",
    "    return mapp"
   ]
  },
  {
   "cell_type": "code",
   "execution_count": 25,
   "metadata": {},
   "outputs": [
    {
     "name": "stdout",
     "output_type": "stream",
     "text": [
      "0000000X\n",
      "00000001\n",
      "00000001\n",
      "000000X1\n",
      "X0000011\n",
      "22222X11\n",
      "22222211\n"
     ]
    }
   ],
   "source": [
    "### Test data (do not modify)\n",
    "stores1 = [[1,3], [4,7], [7,2]]\n",
    "stores2 = [[2,3], [4,9], [7,2]]\n",
    "stores3 = [[20,10], [30,30],[40,20],[45,55],[10,55],[35,70],[35,60]]\n",
    "### Test cases (comment out or remove before copying to Coursemology)\n",
    "m_tight_print(pd_map(7, 8, stores1))\n",
    "\n"
   ]
  },
  {
   "cell_type": "code",
   "execution_count": 26,
   "metadata": {},
   "outputs": [
    {
     "name": "stdout",
     "output_type": "stream",
     "text": [
      "0000000X11\n",
      "0000000111\n",
      "0000000111\n",
      "000000X111\n",
      "X000001111\n",
      "22222X1111\n",
      "2222221111\n",
      "2222222111\n",
      "2222222111\n",
      "2222222X11\n"
     ]
    }
   ],
   "source": [
    "m_tight_print(pd_map(10, 10, stores2))"
   ]
  },
  {
   "cell_type": "code",
   "execution_count": 27,
   "metadata": {},
   "outputs": [
    {
     "name": "stdout",
     "output_type": "stream",
     "text": [
      "00000000000000000000000000000044444444444444444444444444444444444444444444444444\n",
      "00000000000000000000000000000044444444444444444444444444444444444444444444444444\n",
      "00000000000000000000000000000044444444444444444444444444444444444444444444444444\n",
      "00000000000000000000000000000044444444444444444444444444444444444444444444444444\n",
      "00000000000000000000000000000004444444444444444444444444444444444444444444444444\n",
      "000000000000000000000000000000X4444444444444444444444444444444444444444444444444\n",
      "00000000000000000000000000000011444444444444444444444444444444444444444444444444\n",
      "00000000000000000000000000000X11144444444444444444444444444444444444444444444444\n",
      "00000000000000000000000000000111144444444444444444444444444444444444444444444444\n",
      "0000000000000000000000000000X111114444444444444444444444444444444444444444444444\n",
      "00000000000000000000000000001111111444444444444444444444444444444444444444444444\n",
      "000000000000000000000000000X1111111144444444444444444444444444444444444444444444\n",
      "00000000000000000000000000011111111114444444444444444444444444444444444444444444\n",
      "00000000000000000000000000X11111111114444444444444444444444444444444444444444445\n",
      "00000000000000000000000000111111111111444444444444444444444444444444444444444555\n",
      "0000000000000000000000000X1111111111111444444444444444444444444444444444444X5555\n",
      "00000000000000000000000001111111111111114444444444444444444444444444444444555555\n",
      "000000000000000000000000X1111111111111111444444444444444444444444444444455555555\n",
      "0000000000000000000000001111111111111111144444444444444444444444444444X555555555\n",
      "00000000000000000000000X11111111111111111144444444444444444444444444455555555555\n",
      "00000000000000000000000111111111111111111114444444444444444444444445555555555555\n",
      "0000000000000000000000X111111111111111111111444444444444444444444X55555555555555\n",
      "000000000000000000000011111111111111111111111444444444444444X6666X55555555555555\n",
      "000000000000000000000X111111111111111111111114444444444X666666666X55555555555555\n",
      "00000000000000000000011111111111111111111111114444X66666666666666X55555555555555\n",
      "00000000000000000000X11111111111111111111111111666666666666666666X55555555555555\n",
      "00000000000000000000111111111111111111111111111666666666666666666X55555555555555\n",
      "0000000000000000000X111111111111111111111111116666666666666666666X55555555555555\n",
      "00000000000000000001111111111111111111111111116666666666666666666X55555555555555\n",
      "00000000000000000X2X111111111111111111111111116666666666666666666X55555555555555\n",
      "000000000000000X2222X11111111111111111111111116666666666666666666X55555555555555\n",
      "0000000000000X2222222X1111111111111111111111116666666666666666666X55555555555555\n",
      "00000000000X2222222222X111111111111111111111116666666666666666666X55555555555555\n",
      "000000000X2222222222222X11111111111111111111166666666666666666666X55555555555555\n",
      "0000000X2222222222222222X1111111111111111111136666666666666666666X55555555555555\n",
      "00000X2222222222222222222X111111111111111111X33366666666666666666X55555555555555\n",
      "000X2222222222222222222222X11111111111111111333333666666666666666X55555555555555\n",
      "0X2222222222222222222222222X1111111111111113333333336666666666666X55555555555555\n",
      "2222222222222222222222222222X111111111111113333333333366666666666X55555555555555\n",
      "22222222222222222222222222222X11111111111133333333333333666666666X55555555555555\n",
      "222222222222222222222222222222X1111111111X33333333333333336666666X55555555555555\n",
      "2222222222222222222222222222222X111111111333333333333333333366666X55555555555555\n",
      "22222222222222222222222222222222X11111113333333333333333333333666X55555555555555\n",
      "222222222222222222222222222222222X1111113333333333333333333333336X55555555555555\n",
      "2222222222222222222222222222222222X111133333333333333333333333333355555555555555\n",
      "22222222222222222222222222222222222X11X33333333333333333333333333355555555555555\n",
      "222222222222222222222222222222222222X1333333333333333333333333333335555555555555\n",
      "22222222222222222222222222222222222223333333333333333333333333333333555555555555\n",
      "22222222222222222222222222222222222223333333333333333333333333333333555555555555\n",
      "22222222222222222222222222222222222223333333333333333333333333333333355555555555\n"
     ]
    }
   ],
   "source": [
    "m_tight_print(pd_map(50, 80, stores3))"
   ]
  },
  {
   "cell_type": "code",
   "execution_count": 43,
   "metadata": {},
   "outputs": [
    {
     "name": "stdout",
     "output_type": "stream",
     "text": [
      "[6, 7, 5]\n",
      "5\n"
     ]
    }
   ],
   "source": [
    "from itertools import combinations\n",
    "\n",
    "l1 = [3,1,4,2]\n",
    "\n",
    "newlist = list(combinations(l1,2))\n",
    "newlist\n",
    "\n",
    "maxlist = []\n",
    "\n",
    "if(len(newlist) < 2):\n",
    "    print(newlist[0][0] + newlist[0][1])\n",
    "else:\n",
    "    for i in range(int(len(newlist)/2)):\n",
    "        l2 = [newlist[i][0] + newlist[i][1]]\n",
    "        for j in range(int(len(newlist)/2), len(newlist)):\n",
    "            if newlist[i][0] in newlist[j] or newlist[i][1] in newlist[j]:\n",
    "                pass\n",
    "            else:\n",
    "                l2.append(newlist[j][0] + newlist[j][1])\n",
    "        maxlist.append(max(l2))\n",
    "    print(maxlist)\n",
    "    print(min(maxlist))"
   ]
  },
  {
   "cell_type": "code",
   "execution_count": 20,
   "metadata": {},
   "outputs": [
    {
     "data": {
      "text/plain": [
       "True"
      ]
     },
     "execution_count": 20,
     "metadata": {},
     "output_type": "execute_result"
    }
   ],
   "source": [
    "1 in newlist[0]"
   ]
  },
  {
   "cell_type": "code",
   "execution_count": 44,
   "metadata": {},
   "outputs": [
    {
     "name": "stdout",
     "output_type": "stream",
     "text": [
      "[(1, 2), (1, 3), (1, 4), (1, 5), (1, 6), (2, 3), (2, 4), (2, 5), (2, 6), (3, 4), (3, 5), (3, 6), (4, 5), (4, 6), (5, 6)]\n",
      "[11, 11, 11, 10, 9, 11, 11]\n"
     ]
    },
    {
     "data": {
      "text/plain": [
       "9"
      ]
     },
     "execution_count": 44,
     "metadata": {},
     "output_type": "execute_result"
    }
   ],
   "source": [
    "l1 = [1,2,3,4,5,6]\n",
    "\n",
    "newlist = list(combinations(l1,2))\n",
    "newlist\n",
    "\n",
    "maxlist = []\n",
    "\n",
    "for i in range(int(len(newlist)/2)):\n",
    "    l2 = [newlist[i][0] + newlist[i][1]]\n",
    "    for j in range(int(len(newlist)/2), len(newlist)):\n",
    "        if newlist[i][0] in newlist[j] or newlist[i][1] in newlist[j]:\n",
    "            pass\n",
    "        else:\n",
    "            l2.append(newlist[j][0] + newlist[j][1])\n",
    "    maxlist.append(max(l2))\n",
    "\n",
    "print(newlist)\n",
    "print(maxlist)            \n",
    "min(maxlist)"
   ]
  },
  {
   "cell_type": "code",
   "execution_count": 36,
   "metadata": {},
   "outputs": [
    {
     "data": {
      "text/plain": [
       "11"
      ]
     },
     "execution_count": 36,
     "metadata": {},
     "output_type": "execute_result"
    }
   ],
   "source": [
    "max(3,7,11)"
   ]
  },
  {
   "cell_type": "code",
   "execution_count": 61,
   "metadata": {},
   "outputs": [],
   "source": [
    "class freqtable:\n",
    "    \n",
    "    def __init__(self):\n",
    "        self.table = {}\n",
    "        \n",
    "    def insert(self, x, c):\n",
    "        if x not in self.table:\n",
    "            self.table[x] = c\n",
    "        else:\n",
    "            self.table[x] += c\n",
    "            \n",
    "    def remove(self, x, c):\n",
    "        if x in self.table and c > 0:\n",
    "            self.table[x] -= c\n",
    "            if self.table[x] == 0:\n",
    "                del self.table[x]\n",
    "        else:\n",
    "            return\n",
    "   \n",
    "    def query(self, x):\n",
    "        return self.table[x]\n",
    "    \n",
    "    \n",
    "    def get_size(self):\n",
    "        return len(self.table)\n",
    "        \n",
    "\n",
    "if __name__ == \"__main__\":\n",
    "    t = freqtable()\n",
    "    "
   ]
  },
  {
   "cell_type": "code",
   "execution_count": 62,
   "metadata": {},
   "outputs": [
    {
     "data": {
      "text/plain": [
       "0"
      ]
     },
     "execution_count": 62,
     "metadata": {},
     "output_type": "execute_result"
    }
   ],
   "source": [
    "t.get_size()"
   ]
  },
  {
   "cell_type": "code",
   "execution_count": 63,
   "metadata": {},
   "outputs": [
    {
     "data": {
      "text/plain": [
       "2"
      ]
     },
     "execution_count": 63,
     "metadata": {},
     "output_type": "execute_result"
    }
   ],
   "source": [
    "t.insert(0,2)\n",
    "t.query(0)"
   ]
  },
  {
   "cell_type": "code",
   "execution_count": 64,
   "metadata": {},
   "outputs": [
    {
     "data": {
      "text/plain": [
       "1"
      ]
     },
     "execution_count": 64,
     "metadata": {},
     "output_type": "execute_result"
    }
   ],
   "source": [
    "t.remove(0,1)\n",
    "t.insert(1,1)\n",
    "t.query(0)"
   ]
  },
  {
   "cell_type": "code",
   "execution_count": 65,
   "metadata": {},
   "outputs": [
    {
     "data": {
      "text/plain": [
       "2"
      ]
     },
     "execution_count": 65,
     "metadata": {},
     "output_type": "execute_result"
    }
   ],
   "source": [
    "t.get_size()"
   ]
  },
  {
   "cell_type": "code",
   "execution_count": 66,
   "metadata": {},
   "outputs": [
    {
     "data": {
      "text/plain": [
       "1"
      ]
     },
     "execution_count": 66,
     "metadata": {},
     "output_type": "execute_result"
    }
   ],
   "source": [
    "t.remove(0,1)\n",
    "t.get_size()"
   ]
  },
  {
   "cell_type": "code",
   "execution_count": null,
   "metadata": {},
   "outputs": [],
   "source": []
  }
 ],
 "metadata": {
  "kernelspec": {
   "display_name": "Python 3",
   "language": "python",
   "name": "python3"
  },
  "language_info": {
   "codemirror_mode": {
    "name": "ipython",
    "version": 3
   },
   "file_extension": ".py",
   "mimetype": "text/x-python",
   "name": "python",
   "nbconvert_exporter": "python",
   "pygments_lexer": "ipython3",
   "version": "3.8.5"
  }
 },
 "nbformat": 4,
 "nbformat_minor": 4
}
