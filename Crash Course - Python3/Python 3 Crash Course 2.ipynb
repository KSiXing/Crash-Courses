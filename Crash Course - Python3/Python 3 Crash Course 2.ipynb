{
 "cells": [
  {
   "cell_type": "markdown",
   "metadata": {},
   "source": [
    "# Python 3 Crash Course 2\n",
    "\n",
    "## Outline\n",
    "- Intro to Functional Programming in Python\n",
    "- Key features of Functional Programming\n",
    "    - Lambda\n",
    "    - Map\n",
    "    - Filter\n",
    "    - Reduce\n",
    "- Higher Order Functions\n",
    "- Intro to lazy evaluation\n",
    "    - Generator Comprehension\n",
    "    - Return vs Yield\n",
    "- Sample CS1010E Question (Anagram)\n",
    "    - Stack and Queue Data Structures\n",
    "    - Method to solve the question"
   ]
  },
  {
   "cell_type": "markdown",
   "metadata": {},
   "source": [
    "## Acknowledgement\n",
    "\n",
    "This is in appreciation to a few of my close friends who are instrumental in helping me in my programming journey\n",
    "\n",
    "- <a href=\"https://github.com/WeiLiangLOL\">Wei Liang</a> (NUS), literally a wizard when it comes to programming. Thanks for your help back in poly as well as in CS2030, Programming Methodology II\n",
    "- Benjamin (NUS), for our endless discussions on programming as well as sharing your knowledge and experience in CS1010E. This is an important bridge when it comes to the Functional Programming aspects of Python since I am mostly coming from a Java PoV\n",
    "- Sophia (NTU), for encouraging me to write this sequal to my original <a href=\"./Python 3 Crash Course 1.ipynb\">Python 3 Crash Course</a> \n",
    "- Siyi (NUS), for giving me a chance to try out some of the problems that you were assigned in CS1010E. I still remember some of the problems like Gibonacci, the Anagram and the one that requires you to use `map`, `filter` and `functools::reduce`, all in one question"
   ]
  },
  {
   "cell_type": "markdown",
   "metadata": {},
   "source": [
    "## Introduction to Functional Programming in Python\n",
    "\n",
    "- Functional Programming (a.k.a. Functional Paradigm or FP for short) is a **declarative** programming style\n",
    "- It focuses on pure functions, immutability and the absence of side effects\n",
    "- Some key functions used includes `lambda`, `map`, `filter`, `functools::reduce`\n",
    "\n",
    "#### Imperative Programming vs Declarative Programming (Recap)\n",
    "\n",
    "- **Declarative** - Say what you want\n",
    "- **Imperative** - Say how to get what you want"
   ]
  },
  {
   "cell_type": "markdown",
   "metadata": {},
   "source": [
    "## Key Features of Functional Programming"
   ]
  },
  {
   "cell_type": "markdown",
   "metadata": {},
   "source": [
    "### Lambda Functions\n",
    "\n",
    "- This has roots based on lambda calculus - $\\lambda$(x)\n",
    "- Instead of defining a function, `lambda` is a useful way to create anonymous functions\n",
    "\n",
    "#### Key Lambda Functions\n",
    "\n",
    "- Identity: $\\lambda$ x : x\n",
    "- Function: $\\lambda$ x : x + 2\n",
    "- BiFunction: $\\lambda$ x, y : x + y\n",
    "- Predicate: $\\lambda$ x : x % 2 == 0 (i.e. returns either a `True` or `False` value only)"
   ]
  },
  {
   "cell_type": "code",
   "execution_count": 1,
   "metadata": {},
   "outputs": [],
   "source": [
    "# This is a regular function\n",
    "\n",
    "def add(first, second):\n",
    "    return first + second"
   ]
  },
  {
   "cell_type": "code",
   "execution_count": 2,
   "metadata": {},
   "outputs": [
    {
     "data": {
      "text/plain": [
       "5"
      ]
     },
     "execution_count": 2,
     "metadata": {},
     "output_type": "execute_result"
    }
   ],
   "source": [
    "add(2,3)"
   ]
  },
  {
   "cell_type": "code",
   "execution_count": 3,
   "metadata": {},
   "outputs": [],
   "source": [
    "# The same can be achieved through this BiFunction (takes in 2 parameters) using lambda\n",
    "\n",
    "add = lambda first, second: first + second"
   ]
  },
  {
   "cell_type": "code",
   "execution_count": 4,
   "metadata": {},
   "outputs": [
    {
     "data": {
      "text/plain": [
       "5"
      ]
     },
     "execution_count": 4,
     "metadata": {},
     "output_type": "execute_result"
    }
   ],
   "source": [
    "add(2,3)"
   ]
  },
  {
   "cell_type": "code",
   "execution_count": 5,
   "metadata": {},
   "outputs": [
    {
     "data": {
      "text/plain": [
       "4"
      ]
     },
     "execution_count": 5,
     "metadata": {},
     "output_type": "execute_result"
    }
   ],
   "source": [
    "# Likewise I can do a square function on input 2\n",
    "\n",
    "(lambda x : x ** 2)(2)"
   ]
  },
  {
   "cell_type": "markdown",
   "metadata": {},
   "source": [
    "### Map Function\n",
    "\n",
    "- Maps a value in the Domain to a value in the Co-Domain. All values in the domain must be mapped, but they can be mapped to the same value in the Co-Domain. Not all values in the Co-Domain must be mapped\n",
    "- In python `map` will take in a function and an iterable, which it will then return the output based on the corresponding values in the iterable\n",
    "- e.g. Square values\n",
    "    - The values 2 and -2 will both be mapped to 4, but -4 will not be mapped"
   ]
  },
  {
   "cell_type": "code",
   "execution_count": 6,
   "metadata": {},
   "outputs": [
    {
     "data": {
      "text/plain": [
       "[9, 4, 1, 0, 1, 4, 9]"
      ]
     },
     "execution_count": 6,
     "metadata": {},
     "output_type": "execute_result"
    }
   ],
   "source": [
    "# An example using square of values\n",
    "\n",
    "lst = [-3, -2, -1, 0, 1, 2, 3]\n",
    "\n",
    "mapped = map(lambda x : x ** 2, lst)\n",
    "[x for x in mapped]"
   ]
  },
  {
   "cell_type": "code",
   "execution_count": 7,
   "metadata": {},
   "outputs": [
    {
     "data": {
      "text/plain": [
       "[3, 2, 1, 0, 1, 2, 3]"
      ]
     },
     "execution_count": 7,
     "metadata": {},
     "output_type": "execute_result"
    }
   ],
   "source": [
    "# An example using absolute values\n",
    "\n",
    "positive_int = map(lambda x : abs(x), lst)\n",
    "[x for x in positive_int]"
   ]
  },
  {
   "cell_type": "markdown",
   "metadata": {},
   "source": [
    "### Filter Function\n",
    "\n",
    "- Filter takes in a predicate and only those values who satisfy the condition will be evaluated\n",
    "- Think of this as the functional version of the `if...else` statement that normally occur"
   ]
  },
  {
   "cell_type": "code",
   "execution_count": 8,
   "metadata": {},
   "outputs": [
    {
     "data": {
      "text/plain": [
       "[2, 4, 6, 8]"
      ]
     },
     "execution_count": 8,
     "metadata": {},
     "output_type": "execute_result"
    }
   ],
   "source": [
    "# Using if...else get only even numbers\n",
    "\n",
    "lst = [1,2,3,4,5,6,7,8]\n",
    "\n",
    "def square_even(lst):\n",
    "    newlist = []\n",
    "    for i in lst:\n",
    "        if i % 2 == 0:\n",
    "            newlist.append(i)\n",
    "        else: \n",
    "            pass\n",
    "    return newlist\n",
    "\n",
    "square_even(lst)"
   ]
  },
  {
   "cell_type": "code",
   "execution_count": 9,
   "metadata": {},
   "outputs": [
    {
     "data": {
      "text/plain": [
       "[2, 4, 6, 8]"
      ]
     },
     "execution_count": 9,
     "metadata": {},
     "output_type": "execute_result"
    }
   ],
   "source": [
    "# Using the filter function\n",
    "\n",
    "even = filter(lambda x : x % 2 == 0, lst)\n",
    "[x for x in even]"
   ]
  },
  {
   "cell_type": "markdown",
   "metadata": {},
   "source": [
    "### Reduce Function\n",
    "\n",
    "- Reduces all values in an iterable down to a single value based on the given function"
   ]
  },
  {
   "cell_type": "code",
   "execution_count": 10,
   "metadata": {},
   "outputs": [
    {
     "data": {
      "text/plain": [
       "720"
      ]
     },
     "execution_count": 10,
     "metadata": {},
     "output_type": "execute_result"
    }
   ],
   "source": [
    "# A traditional for loop\n",
    "\n",
    "def factorial(n):\n",
    "    total = 1\n",
    "    for i in range (1, n + 1):\n",
    "        total *= i\n",
    "    return total\n",
    "\n",
    "factorial(6)"
   ]
  },
  {
   "cell_type": "code",
   "execution_count": 11,
   "metadata": {},
   "outputs": [
    {
     "data": {
      "text/plain": [
       "720"
      ]
     },
     "execution_count": 11,
     "metadata": {},
     "output_type": "execute_result"
    }
   ],
   "source": [
    "from functools import reduce\n",
    "\n",
    "# Factorial\n",
    "\n",
    "factorial = reduce(lambda x, y : x * y, range(1,7))\n",
    "factorial"
   ]
  },
  {
   "cell_type": "code",
   "execution_count": 12,
   "metadata": {},
   "outputs": [
    {
     "data": {
      "text/plain": [
       "'The quick brown fox jumps over the lazy dog'"
      ]
     },
     "execution_count": 12,
     "metadata": {},
     "output_type": "execute_result"
    }
   ],
   "source": [
    "# String Concatenation\n",
    "\n",
    "lst = [\"The\", \"quick\", \"brown\", \"fox\", \"jumps\", \"over\", \"the\", \"lazy\", \"dog\"]\n",
    "\n",
    "strConcat = reduce(lambda x, y : x + \" \" + y, lst)\n",
    "strConcat"
   ]
  },
  {
   "cell_type": "code",
   "execution_count": 13,
   "metadata": {},
   "outputs": [
    {
     "data": {
      "text/plain": [
       "120"
      ]
     },
     "execution_count": 13,
     "metadata": {},
     "output_type": "execute_result"
    }
   ],
   "source": [
    "# A stream of command to sum the square of all even values of a list from 1 to 8 both inclusive\n",
    "# On a side note, java does this really well through the use of Streams\n",
    "\n",
    "lst = [x for x in range(1,9)]\n",
    "\n",
    "# 4 + 16 + 36 + 64 = 120\n",
    "reduce(lambda x, y : x + y, map(lambda x : x * x, filter(lambda x : x % 2 == 0, lst)))"
   ]
  },
  {
   "cell_type": "markdown",
   "metadata": {},
   "source": [
    "## Higher Order Functions\n",
    "\n",
    "- Allows a function to be parsed as a parameter into another function, or a function can be returned"
   ]
  },
  {
   "cell_type": "code",
   "execution_count": 14,
   "metadata": {},
   "outputs": [
    {
     "data": {
      "text/plain": [
       "10"
      ]
     },
     "execution_count": 14,
     "metadata": {},
     "output_type": "execute_result"
    }
   ],
   "source": [
    "# Parsing a function as a parameter\n",
    "from functools import reduce\n",
    "\n",
    "factorial = lambda x,y : x * y\n",
    "\n",
    "def combination(n, r, factorial):\n",
    "    numerator = reduce(factorial, range(1, n+1))\n",
    "    denominator = reduce(factorial, range(1, n - r + 1)) * reduce(factorial, range(1, r + 1))\n",
    "    return int(numerator/denominator)\n",
    "\n",
    "combination(5,2,factorial) # Output is 10"
   ]
  },
  {
   "cell_type": "code",
   "execution_count": 15,
   "metadata": {},
   "outputs": [
    {
     "data": {
      "text/plain": [
       "15"
      ]
     },
     "execution_count": 15,
     "metadata": {},
     "output_type": "execute_result"
    }
   ],
   "source": [
    "# Returning a function\n",
    "def create_sum(x): \n",
    "    def sum(y): \n",
    "        return x + y \n",
    "    \n",
    "    return sum \n",
    "    \n",
    "sum_5 = create_sum(5) \n",
    "sum_5(10) # Output is 15"
   ]
  },
  {
   "cell_type": "markdown",
   "metadata": {},
   "source": [
    "## Introduction to Lazy Evaluation\n",
    "\n",
    "- You should only evaluate what is absolutely necessary\n",
    "- Evaluation is put off to the very last minute\n",
    "- Saves time and computational power especially when dealing with large amount of data\n",
    "\n",
    "### Generator vs List Comprehension\n",
    "- List comprehension evaluates and returns all values\n",
    "- Generator comprehension returns a generator object and only evaluates and yields a single value at a time\n",
    "- List comprehension uses `[]` whereas Generator comprehension uses `()`"
   ]
  },
  {
   "cell_type": "code",
   "execution_count": 16,
   "metadata": {},
   "outputs": [
    {
     "data": {
      "text/plain": [
       "[0, 1, 2, 3, 4, 5, 6, 7, 8, 9, 10, 11, 12, 13, 14, 15, 16, 17, 18, 19]"
      ]
     },
     "execution_count": 16,
     "metadata": {},
     "output_type": "execute_result"
    }
   ],
   "source": [
    "# A sample using List Comprehension\n",
    "\n",
    "[x for x in range(20)]"
   ]
  },
  {
   "cell_type": "code",
   "execution_count": 17,
   "metadata": {},
   "outputs": [
    {
     "name": "stdout",
     "output_type": "stream",
     "text": [
      "<class 'generator'>\n"
     ]
    },
    {
     "data": {
      "text/plain": [
       "<generator object <genexpr> at 0x00000194F2953660>"
      ]
     },
     "execution_count": 17,
     "metadata": {},
     "output_type": "execute_result"
    }
   ],
   "source": [
    "# A sample using Generator Comprehension\n",
    "\n",
    "print(type((x for x in range(20))))\n",
    "(x for x in range(20))"
   ]
  },
  {
   "cell_type": "code",
   "execution_count": 18,
   "metadata": {},
   "outputs": [
    {
     "name": "stdout",
     "output_type": "stream",
     "text": [
      "Size of List Comprehension :\t\t 256 \n",
      "Size of Generator Comprehension :\t 112 \n",
      "\n",
      "Size of List Comprehension :\t\t 1664 \n",
      "Size of Generator Comprehension :\t 112\n"
     ]
    }
   ],
   "source": [
    "# As mentioned earlier, it saves time and space by evaluating on what is absolutely necessary\n",
    "\n",
    "import sys\n",
    "lc = [x for x in range(20)]\n",
    "gc = (x for x in range(20))\n",
    "\n",
    "print(\"Size of List Comprehension :\\t\\t\", sys.getsizeof(lc),\"\\nSize of Generator Comprehension :\\t\", sys.getsizeof(gc),\"\\n\")\n",
    "\n",
    "lc = [x for x in range(200)]\n",
    "gc = (x for x in range(200))\n",
    "\n",
    "# Size of Generator Comprehension don't change since only a generator object is returned and none of the values are evaluated\n",
    "print(\"Size of List Comprehension :\\t\\t\", sys.getsizeof(lc),\"\\nSize of Generator Comprehension :\\t\", sys.getsizeof(gc))"
   ]
  },
  {
   "cell_type": "code",
   "execution_count": 19,
   "metadata": {},
   "outputs": [
    {
     "name": "stdout",
     "output_type": "stream",
     "text": [
      "Time taken for List Comprehension :\t\t 7.6701561\n",
      "Time taken for Generator Comprehension :\t 1.066401899999999\n"
     ]
    }
   ],
   "source": [
    "# The previous code block shows how space is saved through the use of Generator Comprehension.\n",
    "# We will now see how it saves time as well\n",
    "\n",
    "from timeit import timeit\n",
    "\n",
    "print(\"Time taken for List Comprehension :\\t\\t\", timeit(\"[x for x in range(100)]\"))\n",
    "print(\"Time taken for Generator Comprehension :\\t\", timeit(\"(x for x in range(100))\"))"
   ]
  },
  {
   "cell_type": "code",
   "execution_count": 20,
   "metadata": {},
   "outputs": [
    {
     "name": "stdout",
     "output_type": "stream",
     "text": [
      "0\n"
     ]
    },
    {
     "data": {
      "text/plain": [
       "[0, 1, 2, 3, 4, 5, 6, 7, 8, 9, 10, 11, 12, 13, 14, 15, 16, 17, 18, 19, 20]"
      ]
     },
     "execution_count": 20,
     "metadata": {},
     "output_type": "execute_result"
    }
   ],
   "source": [
    "# However, you cannot append or retrieve elements directly from a Generator like you can from a List\n",
    "\n",
    "lc = [x for x in range(20)]\n",
    "print(lc[0])\n",
    "lc.append(20)\n",
    "lc"
   ]
  },
  {
   "cell_type": "code",
   "execution_count": 21,
   "metadata": {},
   "outputs": [
    {
     "ename": "TypeError",
     "evalue": "'generator' object is not subscriptable",
     "output_type": "error",
     "traceback": [
      "\u001b[1;31m---------------------------------------------------------------------------\u001b[0m",
      "\u001b[1;31mTypeError\u001b[0m                                 Traceback (most recent call last)",
      "\u001b[1;32m<ipython-input-21-5348c8e95f32>\u001b[0m in \u001b[0;36m<module>\u001b[1;34m\u001b[0m\n\u001b[0;32m      1\u001b[0m \u001b[0mgc\u001b[0m \u001b[1;33m=\u001b[0m \u001b[1;33m(\u001b[0m\u001b[0mx\u001b[0m \u001b[1;32mfor\u001b[0m \u001b[0mx\u001b[0m \u001b[1;32min\u001b[0m \u001b[0mrange\u001b[0m\u001b[1;33m(\u001b[0m\u001b[1;36m20\u001b[0m\u001b[1;33m)\u001b[0m\u001b[1;33m)\u001b[0m\u001b[1;33m\u001b[0m\u001b[1;33m\u001b[0m\u001b[0m\n\u001b[1;32m----> 2\u001b[1;33m \u001b[0mgc\u001b[0m\u001b[1;33m[\u001b[0m\u001b[1;36m0\u001b[0m\u001b[1;33m]\u001b[0m\u001b[1;33m\u001b[0m\u001b[1;33m\u001b[0m\u001b[0m\n\u001b[0m",
      "\u001b[1;31mTypeError\u001b[0m: 'generator' object is not subscriptable"
     ]
    }
   ],
   "source": [
    "gc = (x for x in range(20))\n",
    "gc[0]"
   ]
  },
  {
   "cell_type": "code",
   "execution_count": 22,
   "metadata": {},
   "outputs": [
    {
     "ename": "AttributeError",
     "evalue": "'generator' object has no attribute 'append'",
     "output_type": "error",
     "traceback": [
      "\u001b[1;31m---------------------------------------------------------------------------\u001b[0m",
      "\u001b[1;31mAttributeError\u001b[0m                            Traceback (most recent call last)",
      "\u001b[1;32m<ipython-input-22-54746f6a2768>\u001b[0m in \u001b[0;36m<module>\u001b[1;34m\u001b[0m\n\u001b[1;32m----> 1\u001b[1;33m \u001b[0mgc\u001b[0m\u001b[1;33m.\u001b[0m\u001b[0mappend\u001b[0m\u001b[1;33m(\u001b[0m\u001b[1;36m20\u001b[0m\u001b[1;33m)\u001b[0m\u001b[1;33m\u001b[0m\u001b[1;33m\u001b[0m\u001b[0m\n\u001b[0m",
      "\u001b[1;31mAttributeError\u001b[0m: 'generator' object has no attribute 'append'"
     ]
    }
   ],
   "source": [
    "gc.append(20)"
   ]
  },
  {
   "cell_type": "markdown",
   "metadata": {},
   "source": [
    "### Return vs Yield\n",
    "\n",
    "- `yield` evaluates and returns a single value back to the user. When it is called upon again, it will continue where it last left off and evaluates the next value when called upon again\n",
    "- `return` computes all values at once and sending them back as a list"
   ]
  },
  {
   "cell_type": "code",
   "execution_count": 23,
   "metadata": {},
   "outputs": [
    {
     "data": {
      "text/plain": [
       "[1, 4, 9, 16, 25]"
      ]
     },
     "execution_count": 23,
     "metadata": {},
     "output_type": "execute_result"
    }
   ],
   "source": [
    "# Traditionally, if we use the return keyword, we will return a fully evaluated list\n",
    "\n",
    "def square(n):\n",
    "    newlist = []\n",
    "    for i in range(1,n):\n",
    "        newlist.append(i * i)\n",
    "    return newlist\n",
    "        \n",
    "squared = square(6)\n",
    "squared"
   ]
  },
  {
   "cell_type": "code",
   "execution_count": 24,
   "metadata": {},
   "outputs": [
    {
     "data": {
      "text/plain": [
       "<generator object square at 0x00000194F2953A50>"
      ]
     },
     "execution_count": 24,
     "metadata": {},
     "output_type": "execute_result"
    }
   ],
   "source": [
    "# We will look at the idea behind Generators through the use of the yield command\n",
    "\n",
    "def square(n):\n",
    "    for i in range(1,n):\n",
    "        yield i * i\n",
    "        \n",
    "squared = square(6)\n",
    "squared"
   ]
  },
  {
   "cell_type": "code",
   "execution_count": 25,
   "metadata": {},
   "outputs": [
    {
     "name": "stdout",
     "output_type": "stream",
     "text": [
      "1\n",
      "4\n",
      "9\n",
      "16\n",
      "25\n"
     ]
    }
   ],
   "source": [
    "for square in squared:\n",
    "    print(square)"
   ]
  },
  {
   "cell_type": "markdown",
   "metadata": {},
   "source": [
    "## Anagram Problem\n",
    "\n",
    "- An anagram is a word that can be rearranged to form a different word (e.g. *algorithm* and *logarithm*)\n",
    "- The idea of how I approached came from tackling a Palindrome, words or sequence of characters that reads the same forward or backwards (e.g. Aibohphobia, Racecar, Madam)\n",
    "\n",
    "### Stacks and Queues\n",
    "- To address the palindrome problem, one can simply just use a stack and a queue data structure to check if the characters are the same when removed simultaneously from each of the data structure. If they are the same, one can conclude the word is a palindrome\n",
    "- Stack is a LIFO (Last-in-First-out) architecture\n",
    "- Queue is a FIFO (First-in-First-out) architecture\n",
    "\n",
    "<img src=\"https://miro.medium.com/max/1200/1*w2zgPM-PJoRWFWJG2GrSaQ.png\" alt=\"python\" style=\"width: 70%; clear: both; display:block; margin-left: 5%; margin-top: 2%;\">"
   ]
  },
  {
   "cell_type": "code",
   "execution_count": 26,
   "metadata": {},
   "outputs": [
    {
     "name": "stdout",
     "output_type": "stream",
     "text": [
      "[5, 10, 15, 20]\n"
     ]
    },
    {
     "data": {
      "text/plain": [
       "[5, 10]"
      ]
     },
     "execution_count": 26,
     "metadata": {},
     "output_type": "execute_result"
    }
   ],
   "source": [
    "# Stack\n",
    "\n",
    "stack = []\n",
    "stack.append(5)\n",
    "stack.append(10)\n",
    "stack.append(15)\n",
    "stack.append(20)\n",
    "print(stack)\n",
    "stack.pop()\n",
    "stack.pop()\n",
    "stack"
   ]
  },
  {
   "cell_type": "code",
   "execution_count": 27,
   "metadata": {},
   "outputs": [
    {
     "name": "stdout",
     "output_type": "stream",
     "text": [
      "[5, 10, 15, 20]\n"
     ]
    },
    {
     "data": {
      "text/plain": [
       "[15, 20]"
      ]
     },
     "execution_count": 27,
     "metadata": {},
     "output_type": "execute_result"
    }
   ],
   "source": [
    "# Queue\n",
    "\n",
    "queue = []\n",
    "queue.append(5)\n",
    "queue.append(10)\n",
    "queue.append(15)\n",
    "queue.append(20)\n",
    "print(queue)\n",
    "queue.pop(0)\n",
    "queue.pop(0)\n",
    "queue"
   ]
  },
  {
   "cell_type": "code",
   "execution_count": 28,
   "metadata": {},
   "outputs": [
    {
     "data": {
      "text/plain": [
       "'This is a Palindrome'"
      ]
     },
     "execution_count": 28,
     "metadata": {},
     "output_type": "execute_result"
    }
   ],
   "source": [
    "# To resolve the Palindrome problem we use both a stack and a queue to see if reading the word forward or reversed \n",
    "# are identical\n",
    "\n",
    "word = \"aibohphobia\"\n",
    "\n",
    "def checkPalindrome(word):\n",
    "    queue = word\n",
    "    stack = word\n",
    "    \n",
    "    if type(stack) == str and type(queue) == str:\n",
    "        stack = stack.lower()\n",
    "        queue = queue.lower()\n",
    "    \n",
    "    for i in range(len(stack)):\n",
    "        if list(stack).pop() != list(queue).pop(0):\n",
    "            return \"This is not a Palindrome\"\n",
    "\n",
    "    return \"This is a Palindrome\"\n",
    "\n",
    "checkPalindrome(word)"
   ]
  },
  {
   "cell_type": "code",
   "execution_count": 29,
   "metadata": {},
   "outputs": [
    {
     "data": {
      "text/plain": [
       "True"
      ]
     },
     "execution_count": 29,
     "metadata": {},
     "output_type": "execute_result"
    }
   ],
   "source": [
    "# To resolve the anagram, we first check if the length of the words are the same\n",
    "# we will then remove the first occurrence of the character until it is empty\n",
    "\n",
    "def isAnagram(word1, word2):\n",
    "    word1 = word1.lower()\n",
    "    word2 = list(word2.lower())\n",
    "    if len(word1) != len(word2):\n",
    "        return False\n",
    "    \n",
    "    for c in word1:\n",
    "        if c in word2:\n",
    "            word2.remove(c)\n",
    "        else:\n",
    "            return False\n",
    "        \n",
    "    return True\n",
    "    \n",
    "isAnagram(\"logarithm\", \"algorithm\")"
   ]
  },
  {
   "cell_type": "code",
   "execution_count": 30,
   "metadata": {},
   "outputs": [
    {
     "data": {
      "text/plain": [
       "True"
      ]
     },
     "execution_count": 30,
     "metadata": {},
     "output_type": "execute_result"
    }
   ],
   "source": [
    "isAnagram(\"aaabb\", \"ababa\")"
   ]
  },
  {
   "cell_type": "code",
   "execution_count": 31,
   "metadata": {},
   "outputs": [
    {
     "data": {
      "text/plain": [
       "False"
      ]
     },
     "execution_count": 31,
     "metadata": {},
     "output_type": "execute_result"
    }
   ],
   "source": [
    "isAnagram(\"aaabb\", \"aabbb\")"
   ]
  },
  {
   "cell_type": "code",
   "execution_count": null,
   "metadata": {},
   "outputs": [],
   "source": []
  }
 ],
 "metadata": {
  "kernelspec": {
   "display_name": "Python 3",
   "language": "python",
   "name": "python3"
  },
  "language_info": {
   "codemirror_mode": {
    "name": "ipython",
    "version": 3
   },
   "file_extension": ".py",
   "mimetype": "text/x-python",
   "name": "python",
   "nbconvert_exporter": "python",
   "pygments_lexer": "ipython3",
   "version": "3.8.5"
  }
 },
 "nbformat": 4,
 "nbformat_minor": 4
}
