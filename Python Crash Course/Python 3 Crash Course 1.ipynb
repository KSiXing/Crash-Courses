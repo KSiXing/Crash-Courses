{
 "cells": [
  {
   "cell_type": "markdown",
   "metadata": {},
   "source": [
    "# Python 3 Crash Course \n",
    "\n",
    "## Outline\n",
    "- Intro to Python\n",
    "- Data Types\n",
    "- Loops and Flow Control\n",
    "- File reading\n",
    "    - Exception Handling\n",
    "    - DataFrame & Series\n",
    "- Functions and Methods\n",
    "- Objects and Classes\n",
    "\n",
    "<img src=\"https://pics.me.me/why-does-python-live-on-land-because-its-above-c-level-60857697.png\" alt=\"pycharm\" style=\"width: 70%; clear: both; display:block; margin-left: 5%; margin-top: 2%;\">"
   ]
  },
  {
   "cell_type": "markdown",
   "metadata": {},
   "source": [
    "## Introduction to Python\n",
    "\n",
    "- Python is a high-level, general-purpose programming language\n",
    "- Python is widely considered as an interpreted language rather than a compiled language\n",
    "- The focus of this course will be on **IMPERATIVE** style rather than *DECLARATIVE* \n",
    "- You can download Python from: https://www.python.org/downloads/\n",
    "- Some recommended IDE: \n",
    "\n",
    "<a href=\"https://www.jetbrains.com/pycharm/\"><img src=\"https://upload.wikimedia.org/wikipedia/commons/thumb/a/a1/PyCharm_Logo.svg/1024px-PyCharm_Logo.svg.png\" alt=\"pycharm\" style=\"width: 100px; float:left; display:inline; margin-left: 10%; margin-top: 1%\"/></a>\n",
    "\n",
    "<img src=\"https://upload.wikimedia.org/wikipedia/commons/thumb/3/38/Jupyter_logo.svg/1200px-Jupyter_logo.svg.png\" alt=\"pycharm\" style=\"width: 100px; float:left; display:inline; margin-left: 10%;\">"
   ]
  },
  {
   "cell_type": "markdown",
   "metadata": {},
   "source": [
    "### Imperative Programming vs Declarative Programming (Optional)\n",
    "\n",
    "- **Declarative** - Say what you want\n",
    "- **Imperative** - Say how to get what you want"
   ]
  },
  {
   "cell_type": "code",
   "execution_count": 73,
   "metadata": {},
   "outputs": [
    {
     "name": "stdout",
     "output_type": "stream",
     "text": [
      "1\n",
      "2\n",
      "6\n",
      "24\n",
      "120\n",
      "720\n"
     ]
    },
    {
     "data": {
      "text/plain": [
       "720"
      ]
     },
     "execution_count": 73,
     "metadata": {},
     "output_type": "execute_result"
    }
   ],
   "source": [
    "# Imperative Style\n",
    "result = 1\n",
    "for i in range(1,7):\n",
    "    result *= i\n",
    "    print(result)\n",
    "    \n",
    "result"
   ]
  },
  {
   "cell_type": "code",
   "execution_count": 2,
   "metadata": {},
   "outputs": [
    {
     "data": {
      "text/plain": [
       "720"
      ]
     },
     "execution_count": 2,
     "metadata": {},
     "output_type": "execute_result"
    }
   ],
   "source": [
    "#Declarative Style\n",
    "\n",
    "from functools import reduce\n",
    "reduce(lambda x,y : x * y, range(1,7))"
   ]
  },
  {
   "cell_type": "markdown",
   "metadata": {},
   "source": [
    "## Basic Data Types\n",
    "\n",
    "- Text: ```str``` \n",
    "\n",
    "- Numeric: ```int```, ```float```, _```complex```_\n",
    "\n",
    "- Sequence: ```list```, ```range```, _```tuple```_\n",
    "\n",
    "- Maps: ```dict```\n",
    "\n",
    "- set: ```set```, _```frozenset```_\n",
    "\n",
    "- boolean: ```bool```\n",
    "\n",
    "- _bytes: ```bytes```, ```bytesarray```, ```memoryview```_"
   ]
  },
  {
   "cell_type": "code",
   "execution_count": 16,
   "metadata": {},
   "outputs": [
    {
     "data": {
      "text/plain": [
       "[1, 2, 3, 4, 5]"
      ]
     },
     "execution_count": 16,
     "metadata": {},
     "output_type": "execute_result"
    }
   ],
   "source": [
    "list(set([1,2,3, 4, 1,3,4,5,4,3,4,5,3,2,1,2]))"
   ]
  },
  {
   "cell_type": "code",
   "execution_count": 3,
   "metadata": {},
   "outputs": [
    {
     "name": "stdout",
     "output_type": "stream",
     "text": [
      "---Text Type---\n",
      "hello world : <class 'str'>\n",
      "\n",
      "---Numeric Types---\n",
      "1  :  <class 'int'>\n",
      "2.5  :  <class 'float'>\n",
      "\n",
      "---Sequence Types---\n",
      "range(1, 10)  :  <class 'range'>\n",
      "[1, 2, 3, 4, 5, 6, 7, 8, 9]  :  <class 'list'>\n",
      "\n",
      "---Mapping Type---\n",
      "{1: 'one', 2: 'two', 3: 'three'}  :  <class 'dict'>\n"
     ]
    }
   ],
   "source": [
    "## Text\n",
    "print(\"---Text Type---\")\n",
    "print(\"hello world : \" + str(type(\"hello world\")))\n",
    "\n",
    "## Numeric types\n",
    "print(\"\\n---Numeric Types---\")\n",
    "print(1,\" : \",type(1))\n",
    "print(2.5,\" : \",type(2.5))\n",
    "\n",
    "## Sequence\n",
    "print(\"\\n---Sequence Types---\")\n",
    "rangeVal = range(1,10)\n",
    "print(rangeVal,\" : \",type(rangeVal))\n",
    "integers = [x for x in rangeVal]\n",
    "print(integers,\" : \",type(integers))\n",
    "\n",
    "## Map <K,V>\n",
    "print(\"\\n---Mapping Type---\")\n",
    "intDict = {1:\"one\", 2:\"two\", 3:\"three\"}\n",
    "print(intDict,\" : \",type(intDict))"
   ]
  },
  {
   "cell_type": "code",
   "execution_count": 40,
   "metadata": {},
   "outputs": [
    {
     "name": "stdout",
     "output_type": "stream",
     "text": [
      "hello  1234\n"
     ]
    }
   ],
   "source": [
    "print(\"hello \",1234)"
   ]
  },
  {
   "cell_type": "code",
   "execution_count": 18,
   "metadata": {},
   "outputs": [
    {
     "data": {
      "text/plain": [
       "2.5"
      ]
     },
     "execution_count": 18,
     "metadata": {},
     "output_type": "execute_result"
    }
   ],
   "source": [
    "5/2"
   ]
  },
  {
   "cell_type": "markdown",
   "metadata": {},
   "source": [
    "### Numeric Operations\n",
    "- Addition +\n",
    "- Subtraction -\n",
    "- Multiplication *\n",
    "- Power **\n",
    "- Division /\n",
    "- Modulo (Remainder) %"
   ]
  },
  {
   "cell_type": "code",
   "execution_count": 4,
   "metadata": {},
   "outputs": [
    {
     "name": "stdout",
     "output_type": "stream",
     "text": [
      "3 + 2 = 5\n",
      "3 - 2 = 1\n",
      "3 * 2 = 6\n",
      "3 ** 2 = 9\n",
      "3 / 2 = 1.5\n",
      "3 % 2 = 1\n"
     ]
    }
   ],
   "source": [
    "a = 3\n",
    "b = 2\n",
    "\n",
    "print(\"{} + {} = {}\".format(a, b, a+b))\n",
    "\n",
    "print(\"{} - {} = {}\".format(a, b, a-b))\n",
    "\n",
    "print(\"{} * {} = {}\".format(a, b, a*b))\n",
    "\n",
    "print(\"{} ** {} = {}\".format(a, b, a**b))\n",
    "\n",
    "print(\"{} / {} = {}\".format(a, b, a / b))\n",
    "\n",
    "print(\"{} % {} = {}\".format(a, b, a % b))"
   ]
  },
  {
   "cell_type": "code",
   "execution_count": 29,
   "metadata": {},
   "outputs": [
    {
     "name": "stdout",
     "output_type": "stream",
     "text": [
      "1\n",
      "2\n",
      "3\n",
      "4\n"
     ]
    }
   ],
   "source": [
    "intlist = [1,2,3,4]\n",
    "\n",
    "for i in intlist:\n",
    "    for j in intlist:\n",
    "        if(i == j):\n",
    "            print(i)"
   ]
  },
  {
   "cell_type": "code",
   "execution_count": 24,
   "metadata": {},
   "outputs": [
    {
     "data": {
      "text/plain": [
       "True"
      ]
     },
     "execution_count": 24,
     "metadata": {},
     "output_type": "execute_result"
    }
   ],
   "source": [
    "a = 3\n",
    "a == 3"
   ]
  },
  {
   "cell_type": "markdown",
   "metadata": {},
   "source": [
    "### String\n",
    "\n",
    "This segment will show some of the basic string operations in python3\n",
    "\n",
    "One powerful tool to extract certain parts of the string through the use of pattern is called Regular Expression (Regex). I shall not touch this topic in this course. Regex deserves to have a separate course of its own due to the various syntax and how the pattern is formulated. "
   ]
  },
  {
   "cell_type": "code",
   "execution_count": 38,
   "metadata": {},
   "outputs": [
    {
     "name": "stdout",
     "output_type": "stream",
     "text": [
      "T\n",
      "quick\n",
      "qik\n",
      "43\n",
      "True\n",
      "0.568 hello\n",
      "$0.50\n",
      "today is a [1, 2, 3, 4]\n"
     ]
    }
   ],
   "source": [
    "string = \"The quick brown fox jumps over the lazy dog\"\n",
    "\n",
    "# Strings are list or Array objects\n",
    "print(string[0])\n",
    "\n",
    "# Substring (Extract parts of the string)\n",
    "print(string[4:9])\n",
    "print(string[4:9:2])\n",
    "\n",
    "# List objects should be able to use the len() function to get the size of the list\n",
    "print(len(string))\n",
    "\n",
    "print(\"fox\" in string)\n",
    "\n",
    "\n",
    "print(\"{:.3f} {:s}\" .format(0.56789, \"hello\"))\n",
    "print(\"${:.2f}\".format(0.5))\n",
    "print(\"today is a {}\".format(intlist))"
   ]
  },
  {
   "cell_type": "markdown",
   "metadata": {},
   "source": [
    "### Map types < K, V> - Dictionary and JavaScript Object Notation (JSON) Data"
   ]
  },
  {
   "cell_type": "code",
   "execution_count": 46,
   "metadata": {},
   "outputs": [
    {
     "name": "stdout",
     "output_type": "stream",
     "text": [
      "<class 'str'>\n",
      "<class 'dict'>\n",
      "dict_keys(['1', '2', '3'])\n",
      "dict_values(['one', 'two', 'three'])\n"
     ]
    }
   ],
   "source": [
    "import json\n",
    "\n",
    "intDict = {1:\"one\", 2:\"two\", 3:\"three\"}\n",
    "idString = json.dumps(intDict)\n",
    "print(type(idString))\n",
    "intDict = json.loads(idString)\n",
    "print(type(intDict))\n",
    "\n",
    "# Keys of intDict\n",
    "print(intDict.keys())\n",
    "\n",
    "# Values of intDict\n",
    "print(intDict.values())"
   ]
  },
  {
   "cell_type": "code",
   "execution_count": 47,
   "metadata": {},
   "outputs": [
    {
     "name": "stdout",
     "output_type": "stream",
     "text": [
      "\n",
      "--- Retrieve all values using keys ---\n",
      "one\n",
      "two\n",
      "three\n"
     ]
    }
   ],
   "source": [
    "print(\"\\n--- Retrieve all values using keys ---\")\n",
    "for key in intDict.keys():\n",
    "    print(intDict[key]) "
   ]
  },
  {
   "cell_type": "code",
   "execution_count": 49,
   "metadata": {},
   "outputs": [
    {
     "name": "stdout",
     "output_type": "stream",
     "text": [
      "65346543\n"
     ]
    },
    {
     "data": {
      "text/plain": [
       "{'House': 65346543, 'Office': 67896789, 'Handphone': 98769876}"
      ]
     },
     "execution_count": 49,
     "metadata": {},
     "output_type": "execute_result"
    }
   ],
   "source": [
    "# Multi-layer Dictionary Data\n",
    "\n",
    "employee = {\"First Name\" : \"John\", \n",
    "            \"Last Name\" : \"Doe\", \n",
    "            \"Phone\": {\"House\" : 65346543,\n",
    "                      \"Office\" : 67896789,\n",
    "                      \"Handphone\" : 98769876} \n",
    "           }\n",
    "\n",
    "print(employee[\"Phone\"][\"House\"])\n",
    "\n",
    "# employee[\"First Name\"]\n",
    "employee[\"Phone\"]"
   ]
  },
  {
   "cell_type": "markdown",
   "metadata": {},
   "source": [
    "### List\n",
    "\n",
    "- In Python, it is denoted as ```[]```\n",
    "- ```[]``` in some language (like java) is called an array\n",
    "- In order to use arrays in Python, you need the NumPy package to use the numpy::ndarray\n",
    "- Arrays allows you to perform numeric operations directly on the sequence, list does not\n",
    "\n",
    "<img src=\"https://img.devrant.com/devrant/rant/r_1932853_aqbT7.jpg\" alt=\"You're not my son\" style=\"width: 70%; clear: both; display:block; margin: 2%, 0, 5%, 5%;\">\n",
    "\n",
    "- List index always starts from 0 not 1 for most languages (i.e. Java, Python, C)\n",
    "- There are languages which starts from 1 (i.e. R) - **Be aware of which index does the language start with**\n",
    "- Using range() to access list from its index is inclusive of the start value and exclusive of the end value \n",
    "    - i.e. to get all elements from a list with its index, it would be 0 $\\leq$ x $<$ 6 for the below example"
   ]
  },
  {
   "cell_type": "code",
   "execution_count": 52,
   "metadata": {},
   "outputs": [
    {
     "name": "stdout",
     "output_type": "stream",
     "text": [
      "[1, 2, 3, 4, 5, 6, 7]\n",
      "The length of the list is:  7\n",
      "\n",
      "---Getting elements directly from the list---\n",
      "1\n",
      "2\n",
      "3\n",
      "4\n",
      "5\n",
      "6\n",
      "7\n"
     ]
    }
   ],
   "source": [
    "# List datatype\n",
    "integers = [1,2,3,4,5,6]\n",
    "integers.append(7)\n",
    "print(integers)\n",
    "print(\"The length of the list is: \",len(integers))\n",
    "\n",
    "## Getting elements directly from the list\n",
    "print(\"\\n---Getting elements directly from the list---\")\n",
    "for i in integers:\n",
    "    print(i)"
   ]
  },
  {
   "cell_type": "code",
   "execution_count": 53,
   "metadata": {},
   "outputs": [
    {
     "name": "stdout",
     "output_type": "stream",
     "text": [
      "\n",
      "---Getting elements from a list using index---\n",
      "0 : 1\n",
      "1 : 2\n",
      "2 : 3\n",
      "3 : 4\n",
      "4 : 5\n",
      "5 : 6\n",
      "6 : 7\n"
     ]
    }
   ],
   "source": [
    "## Getting elements from their index with Range()\n",
    "print(\"\\n---Getting elements from a list using index---\")\n",
    "for i in range(len(integers)):\n",
    "    print(\"%d : %d\"%(i, integers[i]))"
   ]
  },
  {
   "cell_type": "code",
   "execution_count": 62,
   "metadata": {},
   "outputs": [
    {
     "data": {
      "text/plain": [
       "[7, 6, 5, 4, 3, 2, 1]"
      ]
     },
     "execution_count": 62,
     "metadata": {},
     "output_type": "execute_result"
    }
   ],
   "source": [
    "[x for x in range(len(integers),0,-1)]"
   ]
  },
  {
   "cell_type": "code",
   "execution_count": 63,
   "metadata": {},
   "outputs": [
    {
     "name": "stdout",
     "output_type": "stream",
     "text": [
      "\n",
      "---Divide integer list by 2---\n"
     ]
    },
    {
     "ename": "TypeError",
     "evalue": "unsupported operand type(s) for /: 'list' and 'int'",
     "output_type": "error",
     "traceback": [
      "\u001b[1;31m---------------------------------------------------------------------------\u001b[0m",
      "\u001b[1;31mTypeError\u001b[0m                                 Traceback (most recent call last)",
      "\u001b[1;32m<ipython-input-63-b2550bc3bc91>\u001b[0m in \u001b[0;36m<module>\u001b[1;34m\u001b[0m\n\u001b[0;32m      2\u001b[0m \u001b[0mprint\u001b[0m\u001b[1;33m(\u001b[0m\u001b[1;34m\"\\n---Divide integer list by 2---\"\u001b[0m\u001b[1;33m)\u001b[0m\u001b[1;33m\u001b[0m\u001b[1;33m\u001b[0m\u001b[0m\n\u001b[0;32m      3\u001b[0m \u001b[1;33m\u001b[0m\u001b[0m\n\u001b[1;32m----> 4\u001b[1;33m \u001b[0mintegers\u001b[0m\u001b[1;33m/\u001b[0m\u001b[1;36m2\u001b[0m\u001b[1;33m\u001b[0m\u001b[1;33m\u001b[0m\u001b[0m\n\u001b[0m",
      "\u001b[1;31mTypeError\u001b[0m: unsupported operand type(s) for /: 'list' and 'int'"
     ]
    }
   ],
   "source": [
    "## List vs arrays\n",
    "print(\"\\n---Divide integer list by 2---\")\n",
    "try:\n",
    "    integers/2\n",
    "except Exception as e:\n",
    "    print(\"Exception\", e)"
   ]
  },
  {
   "cell_type": "code",
   "execution_count": 64,
   "metadata": {},
   "outputs": [
    {
     "name": "stdout",
     "output_type": "stream",
     "text": [
      "\n",
      "---Convert integer list to array then divide by 2---\n",
      "[0.5 1.  1.5 2.  2.5 3.  3.5]\n",
      "<class 'numpy.ndarray'>\n"
     ]
    }
   ],
   "source": [
    "import numpy as np\n",
    "\n",
    "print(\"\\n---Convert integer list to array then divide by 2---\")\n",
    "print(np.array(integers)/2)\n",
    "print(type(np.array(integers)/2))"
   ]
  },
  {
   "cell_type": "code",
   "execution_count": 66,
   "metadata": {},
   "outputs": [
    {
     "name": "stdout",
     "output_type": "stream",
     "text": [
      "\n",
      "---Divide integer list by 2 with List Comprehension---\n",
      "[0.5, 1.0, 1.5, 2.0, 2.5, 3.0, 3.5]\n",
      "<class 'list'>\n",
      "[1.0, 2.0, 3.0]\n"
     ]
    }
   ],
   "source": [
    "print(\"\\n---Divide integer list by 2 with List Comprehension---\")\n",
    "print([x/2 for x in integers])\n",
    "print(type([x/2 for x in integers]))\n",
    "print([x/2 for x in integers if x%2 == 0])"
   ]
  },
  {
   "cell_type": "code",
   "execution_count": 65,
   "metadata": {},
   "outputs": [
    {
     "name": "stdout",
     "output_type": "stream",
     "text": [
      "[1, 4, 9, 16, 25, 36, 49]\n"
     ]
    }
   ],
   "source": [
    "print([x ** 2 for x in integers])"
   ]
  },
  {
   "cell_type": "code",
   "execution_count": 67,
   "metadata": {},
   "outputs": [
    {
     "name": "stdout",
     "output_type": "stream",
     "text": [
      "\n",
      "Obtaining the last value can be done thru the use of negative index\n",
      "[1, 2, 3, 4, 5, 6, 7]\n",
      "7\n",
      "6\n",
      "[5, 6, 7]\n"
     ]
    }
   ],
   "source": [
    "print(\"\\nObtaining the last value can be done thru the use of negative index\")\n",
    "print(integers)\n",
    "print(integers[-1])\n",
    "print(integers[-2])\n",
    "print(integers[-3:])"
   ]
  },
  {
   "cell_type": "code",
   "execution_count": 70,
   "metadata": {},
   "outputs": [
    {
     "data": {
      "text/plain": [
       "'1, 2, 3, 4, 5, 6, 7'"
      ]
     },
     "execution_count": 70,
     "metadata": {},
     "output_type": "execute_result"
    }
   ],
   "source": [
    "\", \".join([str(x) for x in integers])"
   ]
  },
  {
   "cell_type": "markdown",
   "metadata": {},
   "source": [
    "## Loops and Flow Control\n",
    "\n",
    "- Types of Loops\n",
    "    - for loop\n",
    "    - while loop\n",
    "- Flow controls\n",
    "    - break\n",
    "    - continue\n",
    "    - pass"
   ]
  },
  {
   "cell_type": "code",
   "execution_count": 71,
   "metadata": {},
   "outputs": [
    {
     "name": "stdout",
     "output_type": "stream",
     "text": [
      "0\n",
      "1\n",
      "2\n",
      "3\n",
      "4\n",
      "5\n",
      "6\n",
      "7\n",
      "8\n",
      "9\n"
     ]
    }
   ],
   "source": [
    "# For loop focuses on iterations\n",
    "\n",
    "for i in range(10):\n",
    "    print(i)"
   ]
  },
  {
   "cell_type": "code",
   "execution_count": 72,
   "metadata": {},
   "outputs": [
    {
     "name": "stdout",
     "output_type": "stream",
     "text": [
      "1\n",
      "2\n",
      "3\n",
      "4\n",
      "5\n",
      "6\n",
      "7\n",
      "8\n",
      "9\n"
     ]
    }
   ],
   "source": [
    "# While loop focuses on the given condition (boolean expression)\n",
    "\n",
    "i = 1\n",
    "while(i < 10):\n",
    "    print(i)\n",
    "    i = i + 1"
   ]
  },
  {
   "cell_type": "code",
   "execution_count": 76,
   "metadata": {},
   "outputs": [
    {
     "name": "stdout",
     "output_type": "stream",
     "text": [
      "\n",
      "--- i : 1 ---\n",
      "in inner loop 0\n",
      "in inner loop 1\n",
      "in inner loop 2\n",
      "in inner loop 3\n",
      "in inner loop 4\n",
      "in inner loop 6\n",
      "in inner loop 7\n",
      "in outer loop\n",
      "\n",
      "--- i : 2 ---\n",
      "in inner loop 0\n",
      "in inner loop 1\n",
      "in inner loop 2\n",
      "in inner loop 3\n",
      "in inner loop 4\n",
      "in inner loop 6\n",
      "in inner loop 7\n",
      "in outer loop\n"
     ]
    }
   ],
   "source": [
    "for i in range(1,3):\n",
    "    print(\"\\n--- i : \" + str(i) + \" ---\")\n",
    "    for j in range(10):\n",
    "        if j == 8:\n",
    "            break # exits current loop\n",
    "        elif j == 5:\n",
    "            continue # skip this one iteration of the loop\n",
    "        else:\n",
    "            pass # literally do nothing\n",
    "        \n",
    "        print(\"in inner loop \" + str(j))\n",
    "    print(\"in outer loop\")"
   ]
  },
  {
   "cell_type": "markdown",
   "metadata": {},
   "source": [
    "### Iterative Function\n",
    "\n",
    "_Uses a loops to compute solutions as it goes_"
   ]
  },
  {
   "cell_type": "code",
   "execution_count": 18,
   "metadata": {},
   "outputs": [
    {
     "name": "stdout",
     "output_type": "stream",
     "text": [
      "720\n"
     ]
    }
   ],
   "source": [
    "\"\"\"\n",
    "Function parses a number and computes the factorial of the number\n",
    "Factorial of n is n x n-1 x n-2 ... x 3 x 2 x 1\n",
    "\"\"\"\n",
    "\n",
    "def factorial(number):\n",
    "    product = 1\n",
    "    for i in range(number,0,-1):\n",
    "        product = product * i\n",
    "    return product\n",
    "\n",
    "print(factorial(6))"
   ]
  },
  {
   "cell_type": "markdown",
   "metadata": {},
   "source": [
    "### Recursive Function\n",
    "_Breaks down a problem into samller problems and calls itself for each of the smaller problems_"
   ]
  },
  {
   "cell_type": "code",
   "execution_count": 79,
   "metadata": {},
   "outputs": [
    {
     "name": "stdout",
     "output_type": "stream",
     "text": [
      "6\n",
      "5\n",
      "4\n",
      "3\n",
      "2\n",
      "In if stmt\n"
     ]
    },
    {
     "data": {
      "text/plain": [
       "720"
      ]
     },
     "execution_count": 79,
     "metadata": {},
     "output_type": "execute_result"
    }
   ],
   "source": [
    "def factorial(number):\n",
    "    if number <= 1:\n",
    "        print(\"In if stmt\")\n",
    "        return 1\n",
    "    else:\n",
    "        print(number)\n",
    "        return number * factorial(number - 1)\n",
    "    \n",
    "factorial(6)"
   ]
  },
  {
   "cell_type": "markdown",
   "metadata": {},
   "source": [
    "### Combination"
   ]
  },
  {
   "cell_type": "code",
   "execution_count": 81,
   "metadata": {},
   "outputs": [
    {
     "name": "stdout",
     "output_type": "stream",
     "text": [
      "5\n",
      "4\n",
      "3\n",
      "2\n",
      "In if stmt\n",
      "3\n",
      "2\n",
      "In if stmt\n",
      "2\n",
      "In if stmt\n"
     ]
    },
    {
     "data": {
      "text/plain": [
       "10"
      ]
     },
     "execution_count": 81,
     "metadata": {},
     "output_type": "execute_result"
    }
   ],
   "source": [
    "def combination(n,r):\n",
    "    numerator = factorial(n)\n",
    "    denominator = factorial(n-r) * factorial(r)\n",
    "    return int(numerator / denominator)\n",
    "    # return int((factorial(n)) / (factorial(n-r) * factorial(r))) # Alternative Approach\n",
    "\n",
    "combination(5,2)"
   ]
  },
  {
   "cell_type": "markdown",
   "metadata": {},
   "source": [
    "## File Reading"
   ]
  },
  {
   "cell_type": "code",
   "execution_count": 21,
   "metadata": {},
   "outputs": [
    {
     "name": "stdout",
     "output_type": "stream",
     "text": [
      "'Cause I-I-I'm in the stars tonight\n",
      "\n",
      "So watch me bring the fire and set the night alight (hey)\n",
      "\n",
      "Shining through the city with a little funk and soul\n",
      "\n",
      "So I'ma light it up like dynamite, whoa oh oh\n"
     ]
    },
    {
     "data": {
      "text/plain": [
       "True"
      ]
     },
     "execution_count": 21,
     "metadata": {},
     "output_type": "execute_result"
    }
   ],
   "source": [
    "with open(\"./Dynamite.txt\",\"r\") as file:\n",
    "    for line in file.readlines():\n",
    "        print(line)\n",
    "        \n",
    "file.closed"
   ]
  },
  {
   "cell_type": "code",
   "execution_count": 82,
   "metadata": {},
   "outputs": [
    {
     "name": "stdout",
     "output_type": "stream",
     "text": [
      "'Cause I-I-I'm in the stars tonight\n",
      "\n",
      "So watch me bring the fire and set the night alight (hey)\n",
      "\n",
      "Shining through the city with a little funk and soul\n",
      "\n",
      "So I'ma light it up like dynamite, whoa oh oh\n",
      "\n",
      "File closed?  False\n",
      "\n",
      "File closed?  True\n"
     ]
    }
   ],
   "source": [
    "f = open(\"Dynamite.txt\", \"r\")\n",
    "for line in f:\n",
    "  print(line)\n",
    "\n",
    "print(\"\\nFile closed? \", f.closed)\n",
    "f.close()\n",
    "print(\"\\nFile closed? \", f.closed)"
   ]
  },
  {
   "cell_type": "markdown",
   "metadata": {},
   "source": [
    "### File Writing\n",
    "\n",
    "- In order to erase all previous data or write a new file use the **w** flag (Write)\n",
    "- In order to add on lines use the **a** flag (Append)\n",
    "- If you use the append flag and the file name specified does not exist, it will create a file for you\n",
    "- Remember why I mentioned the importance of closing the file, python does not write to file until the user is done, that is by cloing the file\n",
    "    - If you do not close the file, the text will not be written into the file"
   ]
  },
  {
   "cell_type": "code",
   "execution_count": 85,
   "metadata": {},
   "outputs": [
    {
     "name": "stdout",
     "output_type": "stream",
     "text": [
      "Hello, this is just some random text\n",
      "\n",
      "--- Appending text ---\n",
      "Hello, this is just some random text\n",
      "\n",
      "Now the file has more content!\n",
      "\n",
      "--- Overwrite---\n",
      "Hello, I have overwritten this file\n",
      "\n"
     ]
    }
   ],
   "source": [
    "with open(\"./Hello World.txt\",\"w\") as out_file:\n",
    "    out_file.write(\"Hello, this is just some random text\\n\")\n",
    "    \n",
    "with open(\"./Hello World.txt\",\"r\") as in_file:\n",
    "    for line in in_file.readlines():\n",
    "        print(line) \n",
    "\n",
    "print(\"--- Appending text ---\")        \n",
    "#f = open(\"./Hello World.txt\", \"a\")\n",
    "#f.write(\"Now the file has more content!\")\n",
    "#f.close()\n",
    "\n",
    "with open(\"./Hello World.txt\",\"a\") as out_file:\n",
    "    out_file.write(\"Now the file has more content!\")\n",
    "\n",
    "with open(\"./Hello World.txt\",\"r\") as in_file:\n",
    "    for line in in_file.readlines():\n",
    "        print(line)\n",
    "        \n",
    "print(\"\\n--- Overwrite---\")        \n",
    "with open(\"./Hello World.txt\",\"w\") as out_file:\n",
    "    out_file.write(\"Hello, I have overwritten this file\\n\")\n",
    "    \n",
    "with open(\"./Hello World.txt\",\"r\") as in_file:\n",
    "    for line in in_file.readlines():\n",
    "        print(line) "
   ]
  },
  {
   "cell_type": "markdown",
   "metadata": {},
   "source": [
    "### Printing outputs to a file\n",
    "\n",
    "- Instead of using file.write(), you can instead choose to use the print() function and specify the file to be printed to"
   ]
  },
  {
   "cell_type": "code",
   "execution_count": 88,
   "metadata": {},
   "outputs": [
    {
     "name": "stdout",
     "output_type": "stream",
     "text": [
      "This is an alternative method to writing an output\n",
      "\n",
      "This is an alternative method to writing an output\n",
      "\n",
      "This is an alternative method to writing an output\n",
      "\n"
     ]
    }
   ],
   "source": [
    "with open(\"./Printed file.txt\",\"a\") as f:\n",
    "    print(\"This is an alternative method to writing an output\", file = f)\n",
    "    \n",
    "with open(\"./Printed file.txt\") as f:\n",
    "    for line in f.readlines():\n",
    "        print(line)\n",
    "        "
   ]
  },
  {
   "cell_type": "markdown",
   "metadata": {},
   "source": [
    "### Dataframes and Series"
   ]
  },
  {
   "cell_type": "code",
   "execution_count": 90,
   "metadata": {},
   "outputs": [
    {
     "data": {
      "text/html": [
       "<div>\n",
       "<style scoped>\n",
       "    .dataframe tbody tr th:only-of-type {\n",
       "        vertical-align: middle;\n",
       "    }\n",
       "\n",
       "    .dataframe tbody tr th {\n",
       "        vertical-align: top;\n",
       "    }\n",
       "\n",
       "    .dataframe thead th {\n",
       "        text-align: right;\n",
       "    }\n",
       "</style>\n",
       "<table border=\"1\" class=\"dataframe\">\n",
       "  <thead>\n",
       "    <tr style=\"text-align: right;\">\n",
       "      <th></th>\n",
       "      <th>black</th>\n",
       "      <th>alcohol</th>\n",
       "      <th>drugs</th>\n",
       "      <th>super</th>\n",
       "      <th>married</th>\n",
       "      <th>felon</th>\n",
       "      <th>workprg</th>\n",
       "      <th>property</th>\n",
       "      <th>person</th>\n",
       "      <th>priors</th>\n",
       "      <th>educ</th>\n",
       "      <th>rules</th>\n",
       "      <th>age</th>\n",
       "      <th>tserved</th>\n",
       "      <th>follow</th>\n",
       "      <th>durat</th>\n",
       "      <th>cens</th>\n",
       "      <th>ldurat</th>\n",
       "    </tr>\n",
       "  </thead>\n",
       "  <tbody>\n",
       "    <tr>\n",
       "      <th>0</th>\n",
       "      <td>0</td>\n",
       "      <td>1</td>\n",
       "      <td>0</td>\n",
       "      <td>1</td>\n",
       "      <td>1</td>\n",
       "      <td>0</td>\n",
       "      <td>1</td>\n",
       "      <td>0</td>\n",
       "      <td>0</td>\n",
       "      <td>0</td>\n",
       "      <td>7</td>\n",
       "      <td>2</td>\n",
       "      <td>441</td>\n",
       "      <td>30</td>\n",
       "      <td>72</td>\n",
       "      <td>72</td>\n",
       "      <td>1</td>\n",
       "      <td>4.276666</td>\n",
       "    </tr>\n",
       "    <tr>\n",
       "      <th>1</th>\n",
       "      <td>1</td>\n",
       "      <td>0</td>\n",
       "      <td>0</td>\n",
       "      <td>1</td>\n",
       "      <td>0</td>\n",
       "      <td>1</td>\n",
       "      <td>1</td>\n",
       "      <td>1</td>\n",
       "      <td>0</td>\n",
       "      <td>0</td>\n",
       "      <td>12</td>\n",
       "      <td>0</td>\n",
       "      <td>307</td>\n",
       "      <td>19</td>\n",
       "      <td>75</td>\n",
       "      <td>75</td>\n",
       "      <td>1</td>\n",
       "      <td>4.317488</td>\n",
       "    </tr>\n",
       "    <tr>\n",
       "      <th>2</th>\n",
       "      <td>0</td>\n",
       "      <td>0</td>\n",
       "      <td>0</td>\n",
       "      <td>0</td>\n",
       "      <td>0</td>\n",
       "      <td>0</td>\n",
       "      <td>1</td>\n",
       "      <td>1</td>\n",
       "      <td>0</td>\n",
       "      <td>0</td>\n",
       "      <td>9</td>\n",
       "      <td>5</td>\n",
       "      <td>262</td>\n",
       "      <td>27</td>\n",
       "      <td>81</td>\n",
       "      <td>9</td>\n",
       "      <td>0</td>\n",
       "      <td>2.197225</td>\n",
       "    </tr>\n",
       "    <tr>\n",
       "      <th>3</th>\n",
       "      <td>0</td>\n",
       "      <td>0</td>\n",
       "      <td>1</td>\n",
       "      <td>1</td>\n",
       "      <td>0</td>\n",
       "      <td>1</td>\n",
       "      <td>1</td>\n",
       "      <td>1</td>\n",
       "      <td>0</td>\n",
       "      <td>2</td>\n",
       "      <td>9</td>\n",
       "      <td>3</td>\n",
       "      <td>253</td>\n",
       "      <td>38</td>\n",
       "      <td>76</td>\n",
       "      <td>25</td>\n",
       "      <td>0</td>\n",
       "      <td>3.218876</td>\n",
       "    </tr>\n",
       "    <tr>\n",
       "      <th>4</th>\n",
       "      <td>0</td>\n",
       "      <td>0</td>\n",
       "      <td>1</td>\n",
       "      <td>1</td>\n",
       "      <td>0</td>\n",
       "      <td>0</td>\n",
       "      <td>0</td>\n",
       "      <td>0</td>\n",
       "      <td>0</td>\n",
       "      <td>0</td>\n",
       "      <td>9</td>\n",
       "      <td>0</td>\n",
       "      <td>244</td>\n",
       "      <td>4</td>\n",
       "      <td>81</td>\n",
       "      <td>81</td>\n",
       "      <td>1</td>\n",
       "      <td>4.394449</td>\n",
       "    </tr>\n",
       "    <tr>\n",
       "      <th>...</th>\n",
       "      <td>...</td>\n",
       "      <td>...</td>\n",
       "      <td>...</td>\n",
       "      <td>...</td>\n",
       "      <td>...</td>\n",
       "      <td>...</td>\n",
       "      <td>...</td>\n",
       "      <td>...</td>\n",
       "      <td>...</td>\n",
       "      <td>...</td>\n",
       "      <td>...</td>\n",
       "      <td>...</td>\n",
       "      <td>...</td>\n",
       "      <td>...</td>\n",
       "      <td>...</td>\n",
       "      <td>...</td>\n",
       "      <td>...</td>\n",
       "      <td>...</td>\n",
       "    </tr>\n",
       "    <tr>\n",
       "      <th>1440</th>\n",
       "      <td>0</td>\n",
       "      <td>1</td>\n",
       "      <td>1</td>\n",
       "      <td>1</td>\n",
       "      <td>0</td>\n",
       "      <td>0</td>\n",
       "      <td>0</td>\n",
       "      <td>0</td>\n",
       "      <td>0</td>\n",
       "      <td>0</td>\n",
       "      <td>12</td>\n",
       "      <td>0</td>\n",
       "      <td>393</td>\n",
       "      <td>8</td>\n",
       "      <td>80</td>\n",
       "      <td>80</td>\n",
       "      <td>1</td>\n",
       "      <td>4.382027</td>\n",
       "    </tr>\n",
       "    <tr>\n",
       "      <th>1441</th>\n",
       "      <td>1</td>\n",
       "      <td>0</td>\n",
       "      <td>0</td>\n",
       "      <td>1</td>\n",
       "      <td>1</td>\n",
       "      <td>1</td>\n",
       "      <td>0</td>\n",
       "      <td>1</td>\n",
       "      <td>0</td>\n",
       "      <td>0</td>\n",
       "      <td>12</td>\n",
       "      <td>0</td>\n",
       "      <td>345</td>\n",
       "      <td>12</td>\n",
       "      <td>73</td>\n",
       "      <td>73</td>\n",
       "      <td>1</td>\n",
       "      <td>4.290460</td>\n",
       "    </tr>\n",
       "    <tr>\n",
       "      <th>1442</th>\n",
       "      <td>1</td>\n",
       "      <td>0</td>\n",
       "      <td>0</td>\n",
       "      <td>0</td>\n",
       "      <td>0</td>\n",
       "      <td>0</td>\n",
       "      <td>1</td>\n",
       "      <td>0</td>\n",
       "      <td>0</td>\n",
       "      <td>0</td>\n",
       "      <td>11</td>\n",
       "      <td>3</td>\n",
       "      <td>264</td>\n",
       "      <td>36</td>\n",
       "      <td>81</td>\n",
       "      <td>81</td>\n",
       "      <td>1</td>\n",
       "      <td>4.394449</td>\n",
       "    </tr>\n",
       "    <tr>\n",
       "      <th>1443</th>\n",
       "      <td>0</td>\n",
       "      <td>0</td>\n",
       "      <td>0</td>\n",
       "      <td>1</td>\n",
       "      <td>1</td>\n",
       "      <td>0</td>\n",
       "      <td>1</td>\n",
       "      <td>0</td>\n",
       "      <td>0</td>\n",
       "      <td>0</td>\n",
       "      <td>12</td>\n",
       "      <td>0</td>\n",
       "      <td>374</td>\n",
       "      <td>9</td>\n",
       "      <td>81</td>\n",
       "      <td>81</td>\n",
       "      <td>1</td>\n",
       "      <td>4.394449</td>\n",
       "    </tr>\n",
       "    <tr>\n",
       "      <th>1444</th>\n",
       "      <td>0</td>\n",
       "      <td>0</td>\n",
       "      <td>0</td>\n",
       "      <td>1</td>\n",
       "      <td>0</td>\n",
       "      <td>0</td>\n",
       "      <td>0</td>\n",
       "      <td>0</td>\n",
       "      <td>0</td>\n",
       "      <td>0</td>\n",
       "      <td>8</td>\n",
       "      <td>2</td>\n",
       "      <td>252</td>\n",
       "      <td>13</td>\n",
       "      <td>72</td>\n",
       "      <td>72</td>\n",
       "      <td>1</td>\n",
       "      <td>4.276666</td>\n",
       "    </tr>\n",
       "  </tbody>\n",
       "</table>\n",
       "<p>1445 rows × 18 columns</p>\n",
       "</div>"
      ],
      "text/plain": [
       "      black  alcohol  drugs  super  married  felon  workprg  property  person  \\\n",
       "0         0        1      0      1        1      0        1         0       0   \n",
       "1         1        0      0      1        0      1        1         1       0   \n",
       "2         0        0      0      0        0      0        1         1       0   \n",
       "3         0        0      1      1        0      1        1         1       0   \n",
       "4         0        0      1      1        0      0        0         0       0   \n",
       "...     ...      ...    ...    ...      ...    ...      ...       ...     ...   \n",
       "1440      0        1      1      1        0      0        0         0       0   \n",
       "1441      1        0      0      1        1      1        0         1       0   \n",
       "1442      1        0      0      0        0      0        1         0       0   \n",
       "1443      0        0      0      1        1      0        1         0       0   \n",
       "1444      0        0      0      1        0      0        0         0       0   \n",
       "\n",
       "      priors  educ  rules  age  tserved  follow  durat  cens    ldurat  \n",
       "0          0     7      2  441       30      72     72     1  4.276666  \n",
       "1          0    12      0  307       19      75     75     1  4.317488  \n",
       "2          0     9      5  262       27      81      9     0  2.197225  \n",
       "3          2     9      3  253       38      76     25     0  3.218876  \n",
       "4          0     9      0  244        4      81     81     1  4.394449  \n",
       "...      ...   ...    ...  ...      ...     ...    ...   ...       ...  \n",
       "1440       0    12      0  393        8      80     80     1  4.382027  \n",
       "1441       0    12      0  345       12      73     73     1  4.290460  \n",
       "1442       0    11      3  264       36      81     81     1  4.394449  \n",
       "1443       0    12      0  374        9      81     81     1  4.394449  \n",
       "1444       0     8      2  252       13      72     72     1  4.276666  \n",
       "\n",
       "[1445 rows x 18 columns]"
      ]
     },
     "execution_count": 90,
     "metadata": {},
     "output_type": "execute_result"
    }
   ],
   "source": [
    "import pandas as pd\n",
    "\n",
    "PO = pd.read_csv(\"./recid.csv\")\n",
    "PO"
   ]
  },
  {
   "cell_type": "code",
   "execution_count": 98,
   "metadata": {},
   "outputs": [
    {
     "data": {
      "text/html": [
       "<div>\n",
       "<style scoped>\n",
       "    .dataframe tbody tr th:only-of-type {\n",
       "        vertical-align: middle;\n",
       "    }\n",
       "\n",
       "    .dataframe tbody tr th {\n",
       "        vertical-align: top;\n",
       "    }\n",
       "\n",
       "    .dataframe thead th {\n",
       "        text-align: right;\n",
       "    }\n",
       "</style>\n",
       "<table border=\"1\" class=\"dataframe\">\n",
       "  <thead>\n",
       "    <tr style=\"text-align: right;\">\n",
       "      <th></th>\n",
       "      <th>col_1</th>\n",
       "      <th>col_2</th>\n",
       "      <th>col_3</th>\n",
       "    </tr>\n",
       "  </thead>\n",
       "  <tbody>\n",
       "    <tr>\n",
       "      <th>0</th>\n",
       "      <td>3</td>\n",
       "      <td>a</td>\n",
       "      <td>6</td>\n",
       "    </tr>\n",
       "    <tr>\n",
       "      <th>1</th>\n",
       "      <td>2</td>\n",
       "      <td>b</td>\n",
       "      <td>4</td>\n",
       "    </tr>\n",
       "    <tr>\n",
       "      <th>2</th>\n",
       "      <td>1</td>\n",
       "      <td>c</td>\n",
       "      <td>2</td>\n",
       "    </tr>\n",
       "    <tr>\n",
       "      <th>3</th>\n",
       "      <td>0</td>\n",
       "      <td>d</td>\n",
       "      <td>0</td>\n",
       "    </tr>\n",
       "    <tr>\n",
       "      <th>4</th>\n",
       "      <td>1</td>\n",
       "      <td>e</td>\n",
       "      <td>2</td>\n",
       "    </tr>\n",
       "  </tbody>\n",
       "</table>\n",
       "</div>"
      ],
      "text/plain": [
       "   col_1 col_2  col_3\n",
       "0      3     a      6\n",
       "1      2     b      4\n",
       "2      1     c      2\n",
       "3      0     d      0\n",
       "4      1     e      2"
      ]
     },
     "execution_count": 98,
     "metadata": {},
     "output_type": "execute_result"
    }
   ],
   "source": [
    "data = {'col_1': [3, 2, 1, 0, 1], 'col_2': ['a', 'b', 'c', 'd', 'e']}\n",
    "df = pd.DataFrame(data)\n",
    "df[\"col_3\"] = df[\"col_1\"] * 2\n",
    "df"
   ]
  },
  {
   "cell_type": "code",
   "execution_count": 27,
   "metadata": {},
   "outputs": [
    {
     "name": "stdout",
     "output_type": "stream",
     "text": [
      "(4, 3)\n",
      "4\n",
      "12\n"
     ]
    },
    {
     "data": {
      "text/plain": [
       "pandas.core.frame.DataFrame"
      ]
     },
     "execution_count": 27,
     "metadata": {},
     "output_type": "execute_result"
    }
   ],
   "source": [
    "print(df.shape)\n",
    "print(len(df)) # prints the number of rows in the dataframe\n",
    "print(df.size) # 12 = 4 X 3\n",
    "type(df)"
   ]
  },
  {
   "cell_type": "code",
   "execution_count": 97,
   "metadata": {},
   "outputs": [
    {
     "name": "stdout",
     "output_type": "stream",
     "text": [
      "--- Summing up down the column ----\n",
      "col_1     6\n",
      "col_3    12\n",
      "dtype: int64\n",
      "\n",
      "--- Summing up across the row ----\n",
      "0    9\n",
      "1    6\n",
      "2    3\n",
      "3    0\n",
      "dtype: int64\n"
     ]
    }
   ],
   "source": [
    "print(\"--- Summing up down the column ----\")\n",
    "print(df.sum(axis = 0, numeric_only=True))\n",
    "\n",
    "print(\"\\n--- Summing up across the row ----\")\n",
    "print(df.sum(axis = 1, numeric_only=True))"
   ]
  },
  {
   "cell_type": "code",
   "execution_count": 29,
   "metadata": {},
   "outputs": [
    {
     "name": "stdout",
     "output_type": "stream",
     "text": [
      "--- Mean of column ----\n",
      "col_1    1.5\n",
      "col_3    3.0\n",
      "dtype: float64\n",
      "\n",
      "--- Mean of the row ----\n",
      "0    4.5\n",
      "1    3.0\n",
      "2    1.5\n",
      "3    0.0\n",
      "dtype: float64\n"
     ]
    }
   ],
   "source": [
    "print(\"--- Mean of column ----\")\n",
    "print(df.mean(axis = 0, numeric_only=True))\n",
    "\n",
    "print(\"\\n--- Mean of the row ----\")\n",
    "print(df.mean(axis = 1, numeric_only=True))"
   ]
  },
  {
   "cell_type": "code",
   "execution_count": 30,
   "metadata": {},
   "outputs": [
    {
     "data": {
      "text/html": [
       "<div>\n",
       "<style scoped>\n",
       "    .dataframe tbody tr th:only-of-type {\n",
       "        vertical-align: middle;\n",
       "    }\n",
       "\n",
       "    .dataframe tbody tr th {\n",
       "        vertical-align: top;\n",
       "    }\n",
       "\n",
       "    .dataframe thead th {\n",
       "        text-align: right;\n",
       "    }\n",
       "</style>\n",
       "<table border=\"1\" class=\"dataframe\">\n",
       "  <thead>\n",
       "    <tr style=\"text-align: right;\">\n",
       "      <th></th>\n",
       "      <th>col_1</th>\n",
       "      <th>col_3</th>\n",
       "    </tr>\n",
       "  </thead>\n",
       "  <tbody>\n",
       "    <tr>\n",
       "      <th>col_1</th>\n",
       "      <td>1.0</td>\n",
       "      <td>1.0</td>\n",
       "    </tr>\n",
       "    <tr>\n",
       "      <th>col_3</th>\n",
       "      <td>1.0</td>\n",
       "      <td>1.0</td>\n",
       "    </tr>\n",
       "  </tbody>\n",
       "</table>\n",
       "</div>"
      ],
      "text/plain": [
       "       col_1  col_3\n",
       "col_1    1.0    1.0\n",
       "col_3    1.0    1.0"
      ]
     },
     "execution_count": 30,
     "metadata": {},
     "output_type": "execute_result"
    }
   ],
   "source": [
    "df[[\"col_1\",\"col_3\"]].corr()"
   ]
  },
  {
   "cell_type": "code",
   "execution_count": 109,
   "metadata": {},
   "outputs": [
    {
     "data": {
      "text/plain": [
       "pandas.core.series.Series"
      ]
     },
     "execution_count": 109,
     "metadata": {},
     "output_type": "execute_result"
    }
   ],
   "source": [
    "df[\"col_1\"]"
   ]
  },
  {
   "cell_type": "code",
   "execution_count": 99,
   "metadata": {},
   "outputs": [
    {
     "data": {
      "text/html": [
       "<div>\n",
       "<style scoped>\n",
       "    .dataframe tbody tr th:only-of-type {\n",
       "        vertical-align: middle;\n",
       "    }\n",
       "\n",
       "    .dataframe tbody tr th {\n",
       "        vertical-align: top;\n",
       "    }\n",
       "\n",
       "    .dataframe thead th {\n",
       "        text-align: right;\n",
       "    }\n",
       "</style>\n",
       "<table border=\"1\" class=\"dataframe\">\n",
       "  <thead>\n",
       "    <tr style=\"text-align: right;\">\n",
       "      <th></th>\n",
       "      <th>col_1</th>\n",
       "      <th>col_2</th>\n",
       "      <th>col_3</th>\n",
       "    </tr>\n",
       "  </thead>\n",
       "  <tbody>\n",
       "    <tr>\n",
       "      <th>2</th>\n",
       "      <td>1</td>\n",
       "      <td>c</td>\n",
       "      <td>2</td>\n",
       "    </tr>\n",
       "    <tr>\n",
       "      <th>4</th>\n",
       "      <td>1</td>\n",
       "      <td>e</td>\n",
       "      <td>2</td>\n",
       "    </tr>\n",
       "  </tbody>\n",
       "</table>\n",
       "</div>"
      ],
      "text/plain": [
       "   col_1 col_2  col_3\n",
       "2      1     c      2\n",
       "4      1     e      2"
      ]
     },
     "execution_count": 99,
     "metadata": {},
     "output_type": "execute_result"
    }
   ],
   "source": [
    "df[df[\"col_1\"] == 1]"
   ]
  },
  {
   "cell_type": "code",
   "execution_count": 103,
   "metadata": {},
   "outputs": [
    {
     "name": "stdout",
     "output_type": "stream",
     "text": [
      "   col_1  col_3\n",
      "0      3      6\n",
      "1      2      4\n",
      "2      1      2\n",
      "3      0      0\n",
      "4      1      2\n"
     ]
    }
   ],
   "source": [
    "print(df.iloc[:,[0,2]])"
   ]
  },
  {
   "cell_type": "code",
   "execution_count": 104,
   "metadata": {},
   "outputs": [
    {
     "name": "stdout",
     "output_type": "stream",
     "text": [
      "<class 'pandas.core.series.Series'>\n"
     ]
    },
    {
     "data": {
      "text/plain": [
       "0      Tom\n",
       "1    Jerry\n",
       "2      Ben\n",
       "dtype: object"
      ]
     },
     "execution_count": 104,
     "metadata": {},
     "output_type": "execute_result"
    }
   ],
   "source": [
    "names = [\"Tom\", \"Jerry\", \"Ben\"]\n",
    "s = pd.Series(names)\n",
    "print(type(s))\n",
    "s"
   ]
  },
  {
   "cell_type": "code",
   "execution_count": 107,
   "metadata": {},
   "outputs": [
    {
     "data": {
      "text/plain": [
       "col_1    [3, 2, 1, 0]\n",
       "col_2    [a, b, c, d]\n",
       "dtype: object"
      ]
     },
     "execution_count": 107,
     "metadata": {},
     "output_type": "execute_result"
    }
   ],
   "source": [
    "pd.Series({'col_1': [3, 2, 1, 0], 'col_2': ['a', 'b', 'c', 'd']})"
   ]
  },
  {
   "cell_type": "code",
   "execution_count": 36,
   "metadata": {},
   "outputs": [],
   "source": [
    "# Output dataframe to a csv file\n",
    "df.to_csv(\"Sample.csv\")"
   ]
  },
  {
   "cell_type": "markdown",
   "metadata": {},
   "source": [
    "### Exception Handling\n",
    "\n",
    "Exception handling is especially important as it prevents your program from crashing when it hits an error. A good programmer should anticipate the possible exceptions which he/she would encounter and catch them. Some common uses of exception handling includes:\n",
    "\n",
    "- Connecting and retrieving information from databases\n",
    "- Connecting and scraping information online\n",
    "- file reading"
   ]
  },
  {
   "cell_type": "code",
   "execution_count": 37,
   "metadata": {},
   "outputs": [
    {
     "name": "stdout",
     "output_type": "stream",
     "text": [
      "can only concatenate str (not \"int\") to str\n",
      "[Errno 2] No such file or directory: './Hello World2.txt'\n",
      "Exceptions caught successfully, program still runs -- 1\n"
     ]
    },
    {
     "ename": "FileNotFoundError",
     "evalue": "[Errno 2] No such file or directory: './Hello World2.txt'",
     "output_type": "error",
     "traceback": [
      "\u001b[1;31m---------------------------------------------------------------------------\u001b[0m",
      "\u001b[1;31mFileNotFoundError\u001b[0m                         Traceback (most recent call last)",
      "\u001b[1;32m<ipython-input-37-0a1ed2447f20>\u001b[0m in \u001b[0;36m<module>\u001b[1;34m\u001b[0m\n\u001b[0;32m     14\u001b[0m \u001b[1;33m\u001b[0m\u001b[0m\n\u001b[0;32m     15\u001b[0m \u001b[1;33m\u001b[0m\u001b[0m\n\u001b[1;32m---> 16\u001b[1;33m \u001b[1;32mwith\u001b[0m \u001b[0mopen\u001b[0m\u001b[1;33m(\u001b[0m\u001b[1;34m\"./Hello World2.txt\"\u001b[0m\u001b[1;33m,\u001b[0m\u001b[1;34m\"r\"\u001b[0m\u001b[1;33m)\u001b[0m \u001b[1;32mas\u001b[0m \u001b[0mfile\u001b[0m\u001b[1;33m:\u001b[0m\u001b[1;33m\u001b[0m\u001b[1;33m\u001b[0m\u001b[0m\n\u001b[0m\u001b[0;32m     17\u001b[0m         \u001b[1;32mfor\u001b[0m \u001b[0mline\u001b[0m \u001b[1;32min\u001b[0m \u001b[0mfile\u001b[0m\u001b[1;33m.\u001b[0m\u001b[0mreadlines\u001b[0m\u001b[1;33m(\u001b[0m\u001b[1;33m)\u001b[0m\u001b[1;33m:\u001b[0m\u001b[1;33m\u001b[0m\u001b[1;33m\u001b[0m\u001b[0m\n\u001b[0;32m     18\u001b[0m             \u001b[0mprint\u001b[0m\u001b[1;33m(\u001b[0m\u001b[0mline\u001b[0m\u001b[1;33m)\u001b[0m\u001b[1;33m\u001b[0m\u001b[1;33m\u001b[0m\u001b[0m\n",
      "\u001b[1;31mFileNotFoundError\u001b[0m: [Errno 2] No such file or directory: './Hello World2.txt'"
     ]
    }
   ],
   "source": [
    "try:\n",
    "    print(\"hello there \" + 123)\n",
    "except Exception as e:\n",
    "    print(e)\n",
    "    \n",
    "try:\n",
    "    with open(\"./Hello World2.txt\",\"r\") as file:\n",
    "        for line in file.readlines():\n",
    "            print(line)\n",
    "except Exception as e:\n",
    "    print(e)\n",
    "    \n",
    "print(\"Exceptions caught successfully, program still runs -- 1\")\n",
    "\n",
    "\n",
    "with open(\"./Hello World2.txt\",\"r\") as file:\n",
    "        for line in file.readlines():\n",
    "            print(line)\n",
    "            \n",
    "# This statement should be unreachable since the chunk above will bomb\n",
    "print(\"Exceptions caught successfully, program still runs -- 2\") "
   ]
  },
  {
   "cell_type": "markdown",
   "metadata": {},
   "source": [
    "## Functions and Methods\n",
    "\n",
    "- Within a class, it is called a **Method**\n",
    "- Otherwise it is called a **Function**\n",
    "- You should use function is the same chunk of code is to be used multiple times\n",
    "- When developing applications, you will have multiple classes and functions, how does the program know where to start\n",
    "    - This is where the **main** method comes into play\n",
    "    - It tells the application where to start"
   ]
  },
  {
   "cell_type": "code",
   "execution_count": 117,
   "metadata": {},
   "outputs": [],
   "source": [
    "def add(first, second):\n",
    "    return first + second\n",
    "\n",
    "def aggregate(first, second):\n",
    "    addition = add(first, second)\n",
    "    avg = addition / 2\n",
    "    return addition, avg"
   ]
  },
  {
   "cell_type": "code",
   "execution_count": 122,
   "metadata": {},
   "outputs": [
    {
     "name": "stdout",
     "output_type": "stream",
     "text": [
      "(3, 1.5)\n",
      "3\n",
      "1.5\n"
     ]
    }
   ],
   "source": [
    "if __name__ == '__main__':\n",
    "    # sum1 = add(1,2)\n",
    "    # print(sum1)\n",
    "    agg = aggregate(1,2)\n",
    "    summ, avg = aggregate(1,2)\n",
    "    print(agg)\n",
    "    print(summ)\n",
    "    print(avg)"
   ]
  },
  {
   "cell_type": "markdown",
   "metadata": {},
   "source": [
    "## Objects and Classes\n",
    "\n",
    "- The basic building block towards OOP\n",
    "- A class is a template for the creating an object\n",
    "- An object is a particular instance of the class (i.e Blaze is an instance of AoEGuard, and so is Specter)\n",
    "- There are 2 types of relationships displayed here\n",
    "    - **is-a** relationship is to demonstrate the link between an subclass and its superclass (e.g. an AoE Guard is a type of Guard)\n",
    "    - **has-a** relationship is an object being a property of another object (e.g. a guard has a weapon)\n",
    "- By using the **super()** function, the child class will automatically inherit the methods and properties from its parent."
   ]
  },
  {
   "cell_type": "code",
   "execution_count": 123,
   "metadata": {},
   "outputs": [],
   "source": [
    "class Weapon:\n",
    "    name = \"\"\n",
    "    \n",
    "    def __init__(self, name):\n",
    "        self.name = name\n",
    "        \n",
    "    def toString(self):\n",
    "        return self.name"
   ]
  },
  {
   "cell_type": "code",
   "execution_count": 141,
   "metadata": {},
   "outputs": [],
   "source": [
    "class Guard:\n",
    "    name = \"\"\n",
    "    weapon = Weapon(\"unarmed\")\n",
    "    \n",
    "    def __init__ (self, name, weapon):\n",
    "        self.name = name\n",
    "        self.weapon = weapon\n",
    "        \n",
    "    def getName(self):\n",
    "        return self.name\n",
    "    \n",
    "    def getWeapon(self):\n",
    "        return self.weapon.toString()\n",
    "        \n",
    "    def toString(self):\n",
    "        return \"Operator: %s\\nWeapon: %s\" %(self.name, self.weapon.toString()) \n",
    "    \n",
    "class RangedGuard(Guard):\n",
    "    atkRange = 0\n",
    "    atkType = \"\"\n",
    "        \n",
    "    def __init__(self, name, weapon, atkRange, atkType):\n",
    "        super().__init__(name, weapon)\n",
    "        self.atkRange = atkRange\n",
    "        self.atkType = atkType\n",
    "    \n",
    "    def getRange(self):\n",
    "        return self.atkRange\n",
    "    \n",
    "    def getType(self):\n",
    "        return self.atkType\n",
    "        \n",
    "    def toString(self):\n",
    "        return \"\\n----Operator Info----\\n%s\\nRange: %d\\nAttack Type: %s\\n----End Report----\\n\" %(super().toString(),self.atkRange,self.atkType)\n",
    "    \n",
    "class AoEGuard(Guard):\n",
    "    atkRange = 0\n",
    "    atkType = \"\"\n",
    "        \n",
    "    def __init__(self, name, weapon, atkRange, atkType):\n",
    "        super().__init__(name, weapon)\n",
    "        self.atkRange = atkRange\n",
    "        self.atkType = atkType\n",
    "        \n",
    "    def getRange(self):\n",
    "        return self.atkRange\n",
    "    \n",
    "    def getType(self):\n",
    "        return self.atkType\n",
    "        \n",
    "    def modifyRange(self, newRange):\n",
    "        # self.atkRange = newRange\n",
    "        return AoEGuard(self.name, self.weapon, newRange, self.atkType)\n",
    "        \n",
    "    def toString(self):\n",
    "        return \"\\n----Operator Info----\\n%s\\nRange: %d\\nAttack Type: %s\\n----End Report----\\n\" %(super().toString(),self.atkRange,self.atkType)"
   ]
  },
  {
   "cell_type": "code",
   "execution_count": 133,
   "metadata": {},
   "outputs": [
    {
     "name": "stdout",
     "output_type": "stream",
     "text": [
      "\n",
      "----Operator Info----\n",
      "Operator: Blaze\n",
      "Weapon: Chainsaw\n",
      "Range: 2\n",
      "Attack Type: AoE\n",
      "----End Report----\n",
      "\n",
      "AoE\n",
      "\n",
      "----Operator Info----\n",
      "Operator: Blaze\n",
      "Weapon: Chainsaw\n",
      "Range: 2\n",
      "Attack Type: AoE\n",
      "----End Report----\n",
      "\n",
      "\n",
      "----Operator Info----\n",
      "Operator: Blaze\n",
      "Weapon: Chainsaw\n",
      "Range: 3\n",
      "Attack Type: AoE\n",
      "----End Report----\n",
      "\n"
     ]
    }
   ],
   "source": [
    "# Creating objects\n",
    "Astesia = Guard(\"Astesia\", Weapon(\"Sword\"))\n",
    "SilverAsh = RangedGuard(\"SilverAsh\", Weapon(\"Cane\"), 4,\"Single Target\")\n",
    "Lappaland = RangedGuard(\"Lappaland\", Weapon(\"Dual Sword\"), 4,\"Single Target\")\n",
    "Blaze = AoEGuard(\"Blaze\", Weapon(\"Chainsaw\"), 2,\"AoE\")\n",
    "Specter = AoEGuard(\"Specter\", Weapon(\"Chainsaw\"), 2,\"AoE\")\n",
    "\n",
    "print(Blaze.toString())\n",
    "print(Blaze.getType())\n",
    "Blaze2 = Blaze.modifyRange(3)\n",
    "print(Blaze.toString())\n",
    "print(Blaze2.toString())\n",
    "\n",
    "# Mutable Version (Bad Practise)\n",
    "#Blaze.modifyRange(3)\n",
    "#print(Blaze.toString())"
   ]
  },
  {
   "cell_type": "code",
   "execution_count": 135,
   "metadata": {},
   "outputs": [
    {
     "name": "stdout",
     "output_type": "stream",
     "text": [
      "Single Target\n",
      "Single Target\n",
      "AoE\n",
      "AoE\n"
     ]
    },
    {
     "ename": "AttributeError",
     "evalue": "'Guard' object has no attribute 'getType'",
     "output_type": "error",
     "traceback": [
      "\u001b[1;31m---------------------------------------------------------------------------\u001b[0m",
      "\u001b[1;31mAttributeError\u001b[0m                            Traceback (most recent call last)",
      "\u001b[1;32m<ipython-input-135-ca1cc0391a1d>\u001b[0m in \u001b[0;36m<module>\u001b[1;34m\u001b[0m\n\u001b[0;32m     10\u001b[0m     \u001b[1;31m# print(guard.toString()) # Polymorphism\u001b[0m\u001b[1;33m\u001b[0m\u001b[1;33m\u001b[0m\u001b[1;33m\u001b[0m\u001b[0m\n\u001b[0;32m     11\u001b[0m     \u001b[1;31m# print(guard.getName()) # Inheritance\u001b[0m\u001b[1;33m\u001b[0m\u001b[1;33m\u001b[0m\u001b[1;33m\u001b[0m\u001b[0m\n\u001b[1;32m---> 12\u001b[1;33m     \u001b[0mprint\u001b[0m\u001b[1;33m(\u001b[0m\u001b[0mguard\u001b[0m\u001b[1;33m.\u001b[0m\u001b[0mgetType\u001b[0m\u001b[1;33m(\u001b[0m\u001b[1;33m)\u001b[0m\u001b[1;33m)\u001b[0m \u001b[1;31m# This will bomb - there is no getType in the super class guard\u001b[0m\u001b[1;33m\u001b[0m\u001b[1;33m\u001b[0m\u001b[0m\n\u001b[0m",
      "\u001b[1;31mAttributeError\u001b[0m: 'Guard' object has no attribute 'getType'"
     ]
    }
   ],
   "source": [
    "guardList = [];\n",
    "\n",
    "guardList.append(SilverAsh)\n",
    "guardList.append(Lappaland)\n",
    "guardList.append(Blaze)\n",
    "guardList.append(Specter)\n",
    "guardList.append(Astesia)\n",
    "\n",
    "for guard in guardList:\n",
    "    # print(guard.toString()) # Polymorphism\n",
    "    # print(guard.getName()) # Inheritance\n",
    "    print(guard.getType()) # This will bomb - there is no getType in the super class guard"
   ]
  },
  {
   "cell_type": "markdown",
   "metadata": {},
   "source": [
    "### Best Practices\n",
    "\n",
    "- You will see that both *Blaze.atkRange* and **Blaze.getRange()** will yield the same result. However, you should avoid using *Blaze.atkRange*. It is good practise to access the properties of an Object through the use of methods provided by the class. "
   ]
  },
  {
   "cell_type": "code",
   "execution_count": 138,
   "metadata": {},
   "outputs": [
    {
     "name": "stdout",
     "output_type": "stream",
     "text": [
      "Broca\n"
     ]
    }
   ],
   "source": [
    "Blaze.name = \"Broca\"\n",
    "print(Blaze.getName())"
   ]
  },
  {
   "cell_type": "code",
   "execution_count": 143,
   "metadata": {},
   "outputs": [
    {
     "name": "stdout",
     "output_type": "stream",
     "text": [
      "Operator: Astesia\n",
      "Weapon: Sword\n"
     ]
    }
   ],
   "source": [
    "Astesia = Guard(\"Astesia\", Weapon(\"Sword\"))\n",
    "print(Astesia.toString())"
   ]
  },
  {
   "cell_type": "code",
   "execution_count": 147,
   "metadata": {},
   "outputs": [
    {
     "name": "stdout",
     "output_type": "stream",
     "text": [
      "\\----\n"
     ]
    }
   ],
   "source": [
    "print(\"\\\\----\")"
   ]
  },
  {
   "cell_type": "code",
   "execution_count": 148,
   "metadata": {},
   "outputs": [
    {
     "ename": "ValueError",
     "evalue": "invalid literal for int() with base 10: 'hello'",
     "output_type": "error",
     "traceback": [
      "\u001b[1;31m---------------------------------------------------------------------------\u001b[0m",
      "\u001b[1;31mValueError\u001b[0m                                Traceback (most recent call last)",
      "\u001b[1;32m<ipython-input-148-a6f1987f81d0>\u001b[0m in \u001b[0;36m<module>\u001b[1;34m\u001b[0m\n\u001b[1;32m----> 1\u001b[1;33m \u001b[0mint\u001b[0m\u001b[1;33m(\u001b[0m\u001b[1;34m\"hello\"\u001b[0m\u001b[1;33m)\u001b[0m\u001b[1;33m\u001b[0m\u001b[1;33m\u001b[0m\u001b[0m\n\u001b[0m",
      "\u001b[1;31mValueError\u001b[0m: invalid literal for int() with base 10: 'hello'"
     ]
    }
   ],
   "source": [
    "int(\"hello\")"
   ]
  },
  {
   "cell_type": "code",
   "execution_count": null,
   "metadata": {},
   "outputs": [],
   "source": []
  }
 ],
 "metadata": {
  "kernelspec": {
   "display_name": "Python 3",
   "language": "python",
   "name": "python3"
  },
  "language_info": {
   "codemirror_mode": {
    "name": "ipython",
    "version": 3
   },
   "file_extension": ".py",
   "mimetype": "text/x-python",
   "name": "python",
   "nbconvert_exporter": "python",
   "pygments_lexer": "ipython3",
   "version": "3.8.5"
  }
 },
 "nbformat": 4,
 "nbformat_minor": 4
}
