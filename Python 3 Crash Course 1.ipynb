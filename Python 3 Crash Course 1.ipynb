{
 "cells": [
  {
   "cell_type": "markdown",
   "metadata": {},
   "source": [
    "# Python 3 Crash Course \n",
    "\n",
    "## Outline\n",
    "- Intro to Python\n",
    "- Data Types\n",
    "- Flow Control\n",
    "- File reading\n",
    "- Exception Handling\n",
    "- DataFrame & Series\n",
    "\n",
    "<img src=\"https://pics.me.me/why-does-python-live-on-land-because-its-above-c-level-60857697.png\" alt=\"pycharm\" style=\"width: 40%; clear: both; display:block; margin-left: 5%; margin-top: 2%;\">"
   ]
  },
  {
   "cell_type": "markdown",
   "metadata": {},
   "source": [
    "## Introduction to Python\n",
    "\n",
    "- Python is a high-level, general-purpose programming language\n",
    "- Python is widely considered as an interpreted language rather than a compiled language\n",
    "- The focus of this course will be on **IMPERATIVE** style rather than *DECLARATIVE* \n",
    "- You can download Python from: https://www.python.org/downloads/\n",
    "- Some recommended IDE: \n",
    "\n",
    "<a href=\"https://www.jetbrains.com/pycharm/\"><img src=\"https://upload.wikimedia.org/wikipedia/commons/thumb/a/a1/PyCharm_Logo.svg/1024px-PyCharm_Logo.svg.png\" alt=\"pycharm\" style=\"width: 100px; float:left; display:inline; margin-left: 10%; margin-top: 1%\"/></a>\n",
    "\n",
    "<img src=\"https://upload.wikimedia.org/wikipedia/commons/thumb/3/38/Jupyter_logo.svg/1200px-Jupyter_logo.svg.png\" alt=\"pycharm\" style=\"width: 100px; float:left; display:inline; margin-left: 10%;\">"
   ]
  },
  {
   "cell_type": "markdown",
   "metadata": {},
   "source": [
    "## Basic Data Types\n",
    "\n",
    "- Text: ```str``` \n",
    "\n",
    "- Numeric: ```int```, ```float```, _```complex```_\n",
    "\n",
    "- Sequence: ```list```, ```range```, _```tuple```_\n",
    "\n",
    "- Maps: ```dict```\n",
    "\n",
    "- set: ```set```, _```frozenset```_\n",
    "\n",
    "- boolean: ```bool```\n",
    "\n",
    "- _bytes: ```bytes```, ```bytesarray```, ```memoryview```_"
   ]
  },
  {
   "cell_type": "code",
   "execution_count": 59,
   "metadata": {},
   "outputs": [
    {
     "name": "stdout",
     "output_type": "stream",
     "text": [
      "---Text Type---\n",
      "hello world : <class 'str'>\n",
      "\n",
      "---Numeric Types---\n",
      "1  :  <class 'int'>\n",
      "2.5  :  <class 'float'>\n",
      "\n",
      "---Sequence Types---\n",
      "range(1, 10)  :  <class 'range'>\n",
      "[1, 2, 3, 4, 5, 6, 7, 8, 9]  :  <class 'list'>\n",
      "\n",
      "---Mapping Type---\n",
      "{1: 'one', 2: 'two', 3: 'three'}  :  <class 'dict'>\n"
     ]
    }
   ],
   "source": [
    "## Text\n",
    "print(\"---Text Type---\")\n",
    "print(\"hello world : \" + str(type(\"hello world\")))\n",
    "\n",
    "## Numeric types\n",
    "print(\"\\n---Numeric Types---\")\n",
    "print(1,\" : \",type(1))\n",
    "print(2.5,\" : \",type(2.5))\n",
    "\n",
    "## Sequence\n",
    "print(\"\\n---Sequence Types---\")\n",
    "rangeVal = range(1,10)\n",
    "print(rangeVal,\" : \",type(rangeVal))\n",
    "integers = [x for x in rangeVal]\n",
    "print(integers,\" : \",type(integers))\n",
    "\n",
    "## Map <K,V>\n",
    "print(\"\\n---Mapping Type---\")\n",
    "intDict = {1:\"one\", 2:\"two\", 3:\"three\"}\n",
    "print(intDict,\" : \",type(intDict))"
   ]
  },
  {
   "cell_type": "markdown",
   "metadata": {},
   "source": [
    "### List\n",
    "\n",
    "- In Python, it is denoted as ```[]```\n",
    "- ```[]``` in some language (like java) is called an array\n",
    "- In order to use arrays in Python, you need the NumPy package to use the numpy::ndarray\n",
    "- Arrays allows you to perform numeric operations directly on the sequence, list does not\n",
    "\n",
    "<img src=\"https://img.devrant.com/devrant/rant/r_1932853_aqbT7.jpg\" alt=\"You're not my son\" style=\"width: 40%; clear: both; display:block; margin: 2%, 0, 5%, 5%;\">\n",
    "\n",
    "- List index always starts from 0 not 1 for most languages (i.e. Java, Python, C)\n",
    "- Using range() to access list from its index is inclusive of the start value and exclusive of the end value \n",
    "    - i.e. to get all elements from a list with its index, it would be 0 $\\leq$ x $<$ 6 for the below example"
   ]
  },
  {
   "cell_type": "code",
   "execution_count": 32,
   "metadata": {},
   "outputs": [
    {
     "name": "stdout",
     "output_type": "stream",
     "text": [
      "The length of the list is:  6\n",
      "\n",
      "---Getting elements directly from the list---\n",
      "1\n",
      "2\n",
      "3\n",
      "4\n",
      "5\n",
      "6\n",
      "\n",
      "---Getting elements from a list using index---\n",
      "0 : 1\n",
      "1 : 2\n",
      "2 : 3\n",
      "3 : 4\n",
      "4 : 5\n",
      "5 : 6\n",
      "\n",
      "---Divide integer list by 2---\n",
      "Exception unsupported operand type(s) for /: 'list' and 'int'\n",
      "\n",
      "---Convert integer list to array then divide by 2---\n",
      "[0.5 1.  1.5 2.  2.5 3. ]\n",
      "<class 'numpy.ndarray'>\n",
      "\n",
      "---Divide integer list by 2 with List Comprehension---\n",
      "[0.5, 1.0, 1.5, 2.0, 2.5, 3.0]\n",
      "<class 'list'>\n"
     ]
    }
   ],
   "source": [
    "import numpy as np\n",
    "\n",
    "# List datatype\n",
    "integers = [1,2,3,4,5,6]\n",
    "print(\"The length of the list is: \",len(integers))\n",
    "\n",
    "## Getting elements directly from the list\n",
    "print(\"\\n---Getting elements directly from the list---\")\n",
    "for i in integers:\n",
    "    print(i)\n",
    "\n",
    "## Getting elements from their index with Range()\n",
    "print(\"\\n---Getting elements from a list using index---\")\n",
    "for i in range(0,len(integers)):\n",
    "    print(\"%d : %d\"%(i, integers[i]))\n",
    "\n",
    "## List vs arrays\n",
    "print(\"\\n---Divide integer list by 2---\")\n",
    "try:\n",
    "    integers/2\n",
    "except Exception as e:\n",
    "    print(\"Exception\", e)\n",
    "    \n",
    "print(\"\\n---Convert integer list to array then divide by 2---\")\n",
    "print(np.array(integers)/2)\n",
    "print(type(np.array(integers)/2))\n",
    "\n",
    "print(\"\\n---Divide integer list by 2 with List Comprehension---\")\n",
    "print([x/2 for x in integers])\n",
    "print(type([x/2 for x in integers]))"
   ]
  },
  {
   "cell_type": "markdown",
   "metadata": {},
   "source": [
    "### Iterative Function\n",
    "\n",
    "_Uses a loops to compute solutions as it goes_"
   ]
  },
  {
   "cell_type": "code",
   "execution_count": 19,
   "metadata": {},
   "outputs": [
    {
     "name": "stdout",
     "output_type": "stream",
     "text": [
      "720\n"
     ]
    }
   ],
   "source": [
    "\"\"\"\n",
    "Function parses a number and computes the factorial of the number\n",
    "Factorial of n is n x n-1 x n-2 ... x 3 x 2 x 1\n",
    "\"\"\"\n",
    "\n",
    "def factorial(number):\n",
    "    product = 1\n",
    "    for i in range(number,0,-1):\n",
    "        product = product * i\n",
    "    return product\n",
    "\n",
    "print(factorial(6))"
   ]
  },
  {
   "cell_type": "markdown",
   "metadata": {},
   "source": [
    "### Recursive Function\n",
    "_Breaks down a problem into samller problems and calls itself for each of the smaller problems_"
   ]
  },
  {
   "cell_type": "code",
   "execution_count": null,
   "metadata": {},
   "outputs": [],
   "source": [
    "def factorial(number):\n",
    "    if number <= 1:\n",
    "        print(\"In if stmt\")\n",
    "        return 1\n",
    "    else:\n",
    "        print(\"in else\")\n",
    "        return number * factorial(number - 1)\n",
    "    \n",
    "factorial(6)"
   ]
  },
  {
   "cell_type": "markdown",
   "metadata": {},
   "source": [
    "## Combination"
   ]
  },
  {
   "cell_type": "code",
   "execution_count": 25,
   "metadata": {},
   "outputs": [
    {
     "data": {
      "text/plain": [
       "10"
      ]
     },
     "execution_count": 25,
     "metadata": {},
     "output_type": "execute_result"
    }
   ],
   "source": [
    "def combination(n,r):\n",
    "    numerator = factorial(n)\n",
    "    denominator = factorial(n-r) * factorial(r)\n",
    "    return int(numerator / denominator)\n",
    "    # return int((factorial(n)) / (factorial(n-r) * factorial(r))) # Alternative Approach\n",
    "\n",
    "combination(5,2)"
   ]
  },
  {
   "cell_type": "code",
   "execution_count": null,
   "metadata": {},
   "outputs": [],
   "source": []
  }
 ],
 "metadata": {
  "kernelspec": {
   "display_name": "Python 3",
   "language": "python",
   "name": "python3"
  },
  "language_info": {
   "codemirror_mode": {
    "name": "ipython",
    "version": 3
   },
   "file_extension": ".py",
   "mimetype": "text/x-python",
   "name": "python",
   "nbconvert_exporter": "python",
   "pygments_lexer": "ipython3",
   "version": "3.8.5"
  }
 },
 "nbformat": 4,
 "nbformat_minor": 4
}
